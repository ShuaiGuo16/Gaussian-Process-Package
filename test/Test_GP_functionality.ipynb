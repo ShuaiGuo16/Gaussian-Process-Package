{
 "cells": [
  {
   "cell_type": "markdown",
   "metadata": {},
   "source": [
    "# Testing Notebook\n",
    "\n",
    "In this notebook, various functionalities of the developed Gaussian Process class are tested."
   ]
  },
  {
   "cell_type": "code",
   "execution_count": 13,
   "metadata": {},
   "outputs": [],
   "source": [
    "# Get path right\n",
    "import sys\n",
    "import os\n",
    "\n",
    "module_path = os.path.abspath(os.path.join('..'))\n",
    "if module_path not in sys.path:\n",
    "    sys.path.append(module_path+\"\\\\GaussianProcess\")\n",
    "\n",
    "import numpy as np\n",
    "import matplotlib.pyplot as plt\n",
    "from pyDOE import lhs\n",
    "from sklearn.preprocessing import MinMaxScaler\n",
    "from sklearn.pipeline import Pipeline\n",
    "\n",
    "# Import GP interpolation module\n",
    "from GPInterpolator import GPInterpolator\n",
    "\n",
    "%matplotlib inline"
   ]
  },
  {
   "cell_type": "markdown",
   "metadata": {},
   "source": [
    "## 1. Test GP interpolation ability"
   ]
  },
  {
   "cell_type": "code",
   "execution_count": 14,
   "metadata": {},
   "outputs": [],
   "source": [
    "GP = GPInterpolator(trend='Const', kernel='Gaussian',verbose=False)"
   ]
  },
  {
   "cell_type": "code",
   "execution_count": 15,
   "metadata": {},
   "outputs": [
    {
     "data": {
      "text/plain": [
       "{'verbose': False,\n",
       " 'n_restarts': 10,\n",
       " 'optimizer': 'L-BFGS-B',\n",
       " 'init_point': None,\n",
       " 'kernel': 'Gaussian',\n",
       " 'trend': 'Const',\n",
       " 'nugget': 1e-10}"
      ]
     },
     "execution_count": 15,
     "metadata": {},
     "output_type": "execute_result"
    }
   ],
   "source": [
    "# Check default attributes\n",
    "GP.__dict__"
   ]
  },
  {
   "cell_type": "markdown",
   "metadata": {},
   "source": [
    "### 1.1 Create 1D test"
   ]
  },
  {
   "cell_type": "code",
   "execution_count": 16,
   "metadata": {},
   "outputs": [],
   "source": [
    "# Define test function\n",
    "def Test_1D(X):\n",
    "    \"\"\"1D Test Function\"\"\"\n",
    "    \n",
    "    y = (X*6-2)**2*np.sin(X*12-4)\n",
    "    \n",
    "    return y"
   ]
  },
  {
   "cell_type": "code",
   "execution_count": 17,
   "metadata": {},
   "outputs": [],
   "source": [
    "# Training data\n",
    "X_train = np.array([0.0, 0.1, 0.2, 0.4, 0.5, 0.6, 0.7, 0.8, 1]).reshape(-1,1)\n",
    "y_train = Test_1D(X_train)\n",
    "\n",
    "# Testing data\n",
    "X_test = np.linspace(0.0, 1, 100).reshape(-1,1)\n",
    "y_test = Test_1D(X_test)"
   ]
  },
  {
   "cell_type": "code",
   "execution_count": 18,
   "metadata": {},
   "outputs": [],
   "source": [
    "# Fit GP model\n",
    "GP.fit(X_train, y_train)"
   ]
  },
  {
   "cell_type": "code",
   "execution_count": 19,
   "metadata": {},
   "outputs": [],
   "source": [
    "# GP model predicting\n",
    "y_pred, y_pred_SSqr = GP.predict(X_test)"
   ]
  },
  {
   "cell_type": "code",
   "execution_count": 24,
   "metadata": {},
   "outputs": [
    {
     "data": {
      "text/plain": [
       "(100, 5)"
      ]
     },
     "execution_count": 24,
     "metadata": {},
     "output_type": "execute_result"
    }
   ],
   "source": [
    "samples.shape"
   ]
  },
  {
   "cell_type": "code",
   "execution_count": 22,
   "metadata": {},
   "outputs": [
    {
     "ename": "ValueError",
     "evalue": "x and y must have same first dimension, but have shapes (100, 1) and (5,)",
     "output_type": "error",
     "traceback": [
      "\u001b[1;31m---------------------------------------------------------------------------\u001b[0m",
      "\u001b[1;31mValueError\u001b[0m                                Traceback (most recent call last)",
      "\u001b[1;32m<ipython-input-22-47503c41d4bb>\u001b[0m in \u001b[0;36m<module>\u001b[1;34m\u001b[0m\n\u001b[0;32m     10\u001b[0m \u001b[1;31m# Display realizations\u001b[0m\u001b[1;33m\u001b[0m\u001b[1;33m\u001b[0m\u001b[1;33m\u001b[0m\u001b[0m\n\u001b[0;32m     11\u001b[0m \u001b[1;32mfor\u001b[0m \u001b[0mi\u001b[0m \u001b[1;32min\u001b[0m \u001b[0mrange\u001b[0m\u001b[1;33m(\u001b[0m\u001b[0msamples\u001b[0m\u001b[1;33m.\u001b[0m\u001b[0mshape\u001b[0m\u001b[1;33m[\u001b[0m\u001b[1;36m0\u001b[0m\u001b[1;33m]\u001b[0m\u001b[1;33m)\u001b[0m\u001b[1;33m:\u001b[0m\u001b[1;33m\u001b[0m\u001b[1;33m\u001b[0m\u001b[0m\n\u001b[1;32m---> 12\u001b[1;33m     \u001b[0max\u001b[0m\u001b[1;33m.\u001b[0m\u001b[0mplot\u001b[0m\u001b[1;33m(\u001b[0m\u001b[0mX_test\u001b[0m\u001b[1;33m,\u001b[0m \u001b[0msamples\u001b[0m\u001b[1;33m[\u001b[0m\u001b[0mi\u001b[0m\u001b[1;33m,\u001b[0m\u001b[1;33m:\u001b[0m\u001b[1;33m]\u001b[0m\u001b[1;33m,\u001b[0m\u001b[1;34m'b-'\u001b[0m\u001b[1;33m,\u001b[0m \u001b[0mlw\u001b[0m\u001b[1;33m=\u001b[0m\u001b[1;36m2\u001b[0m\u001b[1;33m)\u001b[0m\u001b[1;33m\u001b[0m\u001b[1;33m\u001b[0m\u001b[0m\n\u001b[0m",
      "\u001b[1;32m~\\anaconda3\\lib\\site-packages\\matplotlib\\axes\\_axes.py\u001b[0m in \u001b[0;36mplot\u001b[1;34m(self, scalex, scaley, data, *args, **kwargs)\u001b[0m\n\u001b[0;32m   1741\u001b[0m         \"\"\"\n\u001b[0;32m   1742\u001b[0m         \u001b[0mkwargs\u001b[0m \u001b[1;33m=\u001b[0m \u001b[0mcbook\u001b[0m\u001b[1;33m.\u001b[0m\u001b[0mnormalize_kwargs\u001b[0m\u001b[1;33m(\u001b[0m\u001b[0mkwargs\u001b[0m\u001b[1;33m,\u001b[0m \u001b[0mmlines\u001b[0m\u001b[1;33m.\u001b[0m\u001b[0mLine2D\u001b[0m\u001b[1;33m)\u001b[0m\u001b[1;33m\u001b[0m\u001b[1;33m\u001b[0m\u001b[0m\n\u001b[1;32m-> 1743\u001b[1;33m         \u001b[0mlines\u001b[0m \u001b[1;33m=\u001b[0m \u001b[1;33m[\u001b[0m\u001b[1;33m*\u001b[0m\u001b[0mself\u001b[0m\u001b[1;33m.\u001b[0m\u001b[0m_get_lines\u001b[0m\u001b[1;33m(\u001b[0m\u001b[1;33m*\u001b[0m\u001b[0margs\u001b[0m\u001b[1;33m,\u001b[0m \u001b[0mdata\u001b[0m\u001b[1;33m=\u001b[0m\u001b[0mdata\u001b[0m\u001b[1;33m,\u001b[0m \u001b[1;33m**\u001b[0m\u001b[0mkwargs\u001b[0m\u001b[1;33m)\u001b[0m\u001b[1;33m]\u001b[0m\u001b[1;33m\u001b[0m\u001b[1;33m\u001b[0m\u001b[0m\n\u001b[0m\u001b[0;32m   1744\u001b[0m         \u001b[1;32mfor\u001b[0m \u001b[0mline\u001b[0m \u001b[1;32min\u001b[0m \u001b[0mlines\u001b[0m\u001b[1;33m:\u001b[0m\u001b[1;33m\u001b[0m\u001b[1;33m\u001b[0m\u001b[0m\n\u001b[0;32m   1745\u001b[0m             \u001b[0mself\u001b[0m\u001b[1;33m.\u001b[0m\u001b[0madd_line\u001b[0m\u001b[1;33m(\u001b[0m\u001b[0mline\u001b[0m\u001b[1;33m)\u001b[0m\u001b[1;33m\u001b[0m\u001b[1;33m\u001b[0m\u001b[0m\n",
      "\u001b[1;32m~\\anaconda3\\lib\\site-packages\\matplotlib\\axes\\_base.py\u001b[0m in \u001b[0;36m__call__\u001b[1;34m(self, data, *args, **kwargs)\u001b[0m\n\u001b[0;32m    271\u001b[0m                 \u001b[0mthis\u001b[0m \u001b[1;33m+=\u001b[0m \u001b[0margs\u001b[0m\u001b[1;33m[\u001b[0m\u001b[1;36m0\u001b[0m\u001b[1;33m]\u001b[0m\u001b[1;33m,\u001b[0m\u001b[1;33m\u001b[0m\u001b[1;33m\u001b[0m\u001b[0m\n\u001b[0;32m    272\u001b[0m                 \u001b[0margs\u001b[0m \u001b[1;33m=\u001b[0m \u001b[0margs\u001b[0m\u001b[1;33m[\u001b[0m\u001b[1;36m1\u001b[0m\u001b[1;33m:\u001b[0m\u001b[1;33m]\u001b[0m\u001b[1;33m\u001b[0m\u001b[1;33m\u001b[0m\u001b[0m\n\u001b[1;32m--> 273\u001b[1;33m             \u001b[1;32myield\u001b[0m \u001b[1;32mfrom\u001b[0m \u001b[0mself\u001b[0m\u001b[1;33m.\u001b[0m\u001b[0m_plot_args\u001b[0m\u001b[1;33m(\u001b[0m\u001b[0mthis\u001b[0m\u001b[1;33m,\u001b[0m \u001b[0mkwargs\u001b[0m\u001b[1;33m)\u001b[0m\u001b[1;33m\u001b[0m\u001b[1;33m\u001b[0m\u001b[0m\n\u001b[0m\u001b[0;32m    274\u001b[0m \u001b[1;33m\u001b[0m\u001b[0m\n\u001b[0;32m    275\u001b[0m     \u001b[1;32mdef\u001b[0m \u001b[0mget_next_color\u001b[0m\u001b[1;33m(\u001b[0m\u001b[0mself\u001b[0m\u001b[1;33m)\u001b[0m\u001b[1;33m:\u001b[0m\u001b[1;33m\u001b[0m\u001b[1;33m\u001b[0m\u001b[0m\n",
      "\u001b[1;32m~\\anaconda3\\lib\\site-packages\\matplotlib\\axes\\_base.py\u001b[0m in \u001b[0;36m_plot_args\u001b[1;34m(self, tup, kwargs)\u001b[0m\n\u001b[0;32m    397\u001b[0m \u001b[1;33m\u001b[0m\u001b[0m\n\u001b[0;32m    398\u001b[0m         \u001b[1;32mif\u001b[0m \u001b[0mx\u001b[0m\u001b[1;33m.\u001b[0m\u001b[0mshape\u001b[0m\u001b[1;33m[\u001b[0m\u001b[1;36m0\u001b[0m\u001b[1;33m]\u001b[0m \u001b[1;33m!=\u001b[0m \u001b[0my\u001b[0m\u001b[1;33m.\u001b[0m\u001b[0mshape\u001b[0m\u001b[1;33m[\u001b[0m\u001b[1;36m0\u001b[0m\u001b[1;33m]\u001b[0m\u001b[1;33m:\u001b[0m\u001b[1;33m\u001b[0m\u001b[1;33m\u001b[0m\u001b[0m\n\u001b[1;32m--> 399\u001b[1;33m             raise ValueError(f\"x and y must have same first dimension, but \"\n\u001b[0m\u001b[0;32m    400\u001b[0m                              f\"have shapes {x.shape} and {y.shape}\")\n\u001b[0;32m    401\u001b[0m         \u001b[1;32mif\u001b[0m \u001b[0mx\u001b[0m\u001b[1;33m.\u001b[0m\u001b[0mndim\u001b[0m \u001b[1;33m>\u001b[0m \u001b[1;36m2\u001b[0m \u001b[1;32mor\u001b[0m \u001b[0my\u001b[0m\u001b[1;33m.\u001b[0m\u001b[0mndim\u001b[0m \u001b[1;33m>\u001b[0m \u001b[1;36m2\u001b[0m\u001b[1;33m:\u001b[0m\u001b[1;33m\u001b[0m\u001b[1;33m\u001b[0m\u001b[0m\n",
      "\u001b[1;31mValueError\u001b[0m: x and y must have same first dimension, but have shapes (100, 1) and (5,)"
     ]
    },
    {
     "data": {
      "image/png": "[encoded data removed]",
      "text/plain": [
       "<Figure size 504x360 with 1 Axes>"
      ]
     },
     "metadata": {
      "needs_background": "light"
     },
     "output_type": "display_data"
    }
   ],
   "source": [
    "# Sample path\n",
    "fig, ax = plt.subplots(figsize=(7,5))\n",
    "\n",
    "# Generate realizations\n",
    "samples = GP.realizations(5, X_test)\n",
    "\n",
    "# True function\n",
    "ax.plot(X_test,y_test,'r--',linewidth=2)\n",
    "\n",
    "# Display realizations\n",
    "for i in range(samples.shape[0]):\n",
    "    ax.plot(X_test, samples[i,:],'b-', lw=2)"
   ]
  },
  {
   "cell_type": "code",
   "execution_count": 11,
   "metadata": {},
   "outputs": [
    {
     "data": {
      "text/plain": [
       "(100, 5)"
      ]
     },
     "execution_count": 11,
     "metadata": {},
     "output_type": "execute_result"
    }
   ],
   "source": [
    "samples.shape"
   ]
  },
  {
   "cell_type": "code",
   "execution_count": 34,
   "metadata": {},
   "outputs": [
    {
     "data": {
      "text/plain": [
       "array([3.54536516e+00, 5.73366809e-01, 1.98320543e-01, 1.26296299e-02,\n",
       "       3.28207711e-02, 4.54618266e-02, 5.50950704e-02, 1.27775702e-02,\n",
       "       6.26079246e+01])"
      ]
     },
     "execution_count": 34,
     "metadata": {},
     "output_type": "execute_result"
    }
   ],
   "source": [
    "GP.LOOCV()"
   ]
  },
  {
   "cell_type": "code",
   "execution_count": 35,
   "metadata": {},
   "outputs": [
    {
     "name": "stdout",
     "output_type": "stream",
     "text": [
      "[ 0.22208762  0.05762005  0.04947035 -0.00962407 -0.00322009 -0.00345872\n",
      " -0.01348892  0.03723515  0.57293192]\n"
     ]
    }
   ],
   "source": [
    "error = np.zeros(X_train.shape[0])\n",
    "for i in range(X_train.shape[0]):\n",
    "    GP_cv = GPInterpolator(trend='Const', kernel='Gaussian',verbose=False)\n",
    "    GP_cv.predict_only(np.delete(X_train, obj=i, axis=0), \n",
    "                       np.delete(y_train, obj=i, axis=0),\n",
    "                      theta=GP.theta)\n",
    "    y_pred, y_pred_SSqr = GP_cv.predict(X_train[[i],:])\n",
    "    error[i] = (y_train[i,:]-y_pred)**2\n",
    "print(np.sqrt(error) - np.sqrt(GP.LOOCV()))"
   ]
  },
  {
   "cell_type": "code",
   "execution_count": 36,
   "metadata": {},
   "outputs": [
    {
     "name": "stdout",
     "output_type": "stream",
     "text": [
      "[4.43103184e+00 6.63947822e-01 2.44829314e-01 1.05591156e-02\n",
      " 3.16644060e-02 4.39988686e-02 4.89446911e-02 2.25819940e-02\n",
      " 7.20028426e+01]\n"
     ]
    }
   ],
   "source": [
    "print(error)"
   ]
  },
  {
   "cell_type": "code",
   "execution_count": 37,
   "metadata": {},
   "outputs": [],
   "source": [
    "from sklearn.model_selection import cross_val_score\n",
    "GP_sklearn = GPInterpolator(trend='Const', kernel='Gaussian',verbose=False)\n",
    "scores = cross_val_score(GP_sklearn, X_train, y_train, \n",
    "                         cv=X_train.shape[0])"
   ]
  },
  {
   "cell_type": "code",
   "execution_count": 38,
   "metadata": {},
   "outputs": [
    {
     "data": {
      "text/plain": [
       "array([5.21584571e+00, 1.26304167e+00, 7.98613315e-01, 1.69917582e-01,\n",
       "       2.60237452e-03, 1.06094043e-03, 9.07778199e-04, 3.60080206e+00,\n",
       "       2.74292097e+02])"
      ]
     },
     "execution_count": 38,
     "metadata": {},
     "output_type": "execute_result"
    }
   ],
   "source": [
    "scores**2"
   ]
  },
  {
   "cell_type": "code",
   "execution_count": 18,
   "metadata": {},
   "outputs": [],
   "source": [
    "obj = 7\n",
    "GP_cv = GPInterpolator(trend='Linear', kernel='Matern-5_2',verbose=False)\n",
    "GP_cv.fit(np.delete(X_train, obj=obj, axis=0), np.delete(y_train, obj=obj, axis=0))\n",
    "y_pred, y_pred_SSqr = GP_cv.predict(X_train[[obj],:])\n",
    "error = (y_train[obj,:]-y_pred)**2"
   ]
  },
  {
   "cell_type": "code",
   "execution_count": 19,
   "metadata": {},
   "outputs": [
    {
     "data": {
      "text/plain": [
       "array([451.18895209])"
      ]
     },
     "execution_count": 19,
     "metadata": {},
     "output_type": "execute_result"
    }
   ],
   "source": [
    "error"
   ]
  },
  {
   "cell_type": "code",
   "execution_count": 8,
   "metadata": {},
   "outputs": [
    {
     "data": {
      "image/png": "[encoded data removed]",
      "text/plain": [
       "<Figure size 504x360 with 1 Axes>"
      ]
     },
     "metadata": {
      "needs_background": "light"
     },
     "output_type": "display_data"
    }
   ],
   "source": [
    "# Assess prediction results\n",
    "fig, ax = plt.subplots(figsize=(7,5))\n",
    "ax.plot(X_test,y_test,'r--',linewidth=2,label='Test Function')\n",
    "ax.plot(X_train,y_train,'ro',markerfacecolor='r', markersize=10, label='Training Data')\n",
    "ax.plot(X_test,y_pred,'b-', lw=2, label='GP Prediction')\n",
    "ax.fill_between(X_test.flatten(), y_pred-1.96*np.sqrt(y_pred_SSqr), \n",
    "                y_pred+1.96*np.sqrt(y_pred_SSqr),\n",
    "                facecolor='lavender',label='95% Credibility Interval')\n",
    "ax.tick_params(axis='both', which='major', labelsize=12)\n",
    "ax.set_xlabel('x', fontsize=15)\n",
    "ax.set_ylabel('f(x)', fontsize=15)\n",
    "ax.set_ylim([-10,20])\n",
    "ax.legend(loc=\"upper left\",prop={'size': 12});"
   ]
  },
  {
   "cell_type": "code",
   "execution_count": 9,
   "metadata": {},
   "outputs": [
    {
     "data": {
      "text/plain": [
       "0.30071916776086643"
      ]
     },
     "execution_count": 9,
     "metadata": {},
     "output_type": "execute_result"
    }
   ],
   "source": [
    "GP.score(X_test, y_test)"
   ]
  },
  {
   "cell_type": "markdown",
   "metadata": {},
   "source": [
    "### 1.2 Create 2D test"
   ]
  },
  {
   "cell_type": "code",
   "execution_count": 10,
   "metadata": {},
   "outputs": [],
   "source": [
    "# 2D Test function\n",
    "def Test_2D(X):\n",
    "    \"\"\"2D Test Function\"\"\"\n",
    "    \n",
    "    y = (1-X[:,0])**2 + 100*(X[:,1]-X[:,0]**2)**2\n",
    "    \n",
    "    return y"
   ]
  },
  {
   "cell_type": "markdown",
   "metadata": {},
   "source": [
    "Generate training and testing samples"
   ]
  },
  {
   "cell_type": "code",
   "execution_count": 17,
   "metadata": {},
   "outputs": [],
   "source": [
    "# Training data\n",
    "sample_num = 30\n",
    "lb, ub = np.array([-2, -1]), np.array([2, 3])\n",
    "X_train = (ub-lb)*lhs(2, samples=sample_num) + lb\n",
    "\n",
    "# Compute labels\n",
    "y_train = Test_2D(X_train).reshape(-1,1)\n",
    "\n",
    "# Test data\n",
    "X1 = np.linspace(-2, 2, 20)\n",
    "X2 = np.linspace(-1, 3, 20)\n",
    "X1, X2 = np.meshgrid(X1, X2)\n",
    "X_test = np.hstack((X1.reshape(-1,1), X2.reshape(-1,1)))\n",
    "y_test = Test_2D(X_test)"
   ]
  },
  {
   "cell_type": "markdown",
   "metadata": {},
   "source": [
    "Demonstrate training samples in 2D space"
   ]
  },
  {
   "cell_type": "code",
   "execution_count": 12,
   "metadata": {
    "scrolled": true
   },
   "outputs": [
    {
     "data": {
      "image/png": "[encoded data removed]",
      "text/plain": [
       "<Figure size 504x360 with 1 Axes>"
      ]
     },
     "metadata": {
      "needs_background": "light"
     },
     "output_type": "display_data"
    }
   ],
   "source": [
    "# Vislauzing training samples\n",
    "fig, ax = plt.subplots(figsize=(7,5))\n",
    "ax.scatter(X_train[:,0], X_train[:,1], c='r', label='Training Data')\n",
    "ax.set_xlabel(r'$x_1$', fontsize=15)\n",
    "ax.set_ylabel(r'$x_2$', fontsize=15)\n",
    "ax.legend(loc=\"upper left\",prop={'size': 12});"
   ]
  },
  {
   "cell_type": "code",
   "execution_count": 18,
   "metadata": {},
   "outputs": [
    {
     "data": {
      "text/plain": [
       "Pipeline(steps=[('scaler', MinMaxScaler()),\n",
       "                ('GP',\n",
       "                 <GPInterpolator.GPInterpolator object at 0x000002228CD85AF0>)])"
      ]
     },
     "execution_count": 18,
     "metadata": {},
     "output_type": "execute_result"
    }
   ],
   "source": [
    "# GP model training\n",
    "pipe = Pipeline([('scaler', MinMaxScaler()), \n",
    "         ('GP', GPInterpolator(trend='Linear', kernel='Matern-5_2', n_restarts=20))])\n",
    "pipe.fit(X_train, y_train)"
   ]
  },
  {
   "cell_type": "code",
   "execution_count": 19,
   "metadata": {},
   "outputs": [],
   "source": [
    "# GP model predicting\n",
    "y_pred, y_pred_SSqr = pipe.predict(X_test)"
   ]
  },
  {
   "cell_type": "code",
   "execution_count": 20,
   "metadata": {},
   "outputs": [
    {
     "data": {
      "image/png": "[encoded data removed]",
      "text/plain": [
       "<Figure size 720x288 with 4 Axes>"
      ]
     },
     "metadata": {
      "needs_background": "light"
     },
     "output_type": "display_data"
    }
   ],
   "source": [
    "# Post-processing - Contour plot\n",
    "fig, ax = plt.subplots(1, 2, figsize=(10,4))\n",
    "title = ['True Function', 'GP Approximation']\n",
    "display_y = [y_test, y_pred]\n",
    "\n",
    "for i in range(2):\n",
    "    h = ax[i].contourf(X_test[:,0].reshape(20,-1), \n",
    "                   X_test[:,1].reshape(20,-1), \n",
    "                   display_y[i].reshape(20,-1), levels=15, cmap='GnBu');\n",
    "    ax[i].set_xlabel(r'$x_1$', fontsize=15)\n",
    "    ax[i].set_ylabel(r'$x_2$', fontsize=15)\n",
    "    ax[i].set_title(title[i], fontsize=15)\n",
    "    fig.colorbar(h, ax=ax[i])\n",
    "plt.tight_layout()"
   ]
  },
  {
   "cell_type": "code",
   "execution_count": 21,
   "metadata": {},
   "outputs": [
    {
     "data": {
      "text/plain": [
       "29.300254068432594"
      ]
     },
     "execution_count": 21,
     "metadata": {},
     "output_type": "execute_result"
    }
   ],
   "source": [
    "# Assess accuracy score\n",
    "pipe.score(X_test, y_test)"
   ]
  },
  {
   "cell_type": "markdown",
   "metadata": {},
   "source": [
    "### 1.3 Create 3D test"
   ]
  },
  {
   "cell_type": "code",
   "execution_count": 27,
   "metadata": {},
   "outputs": [],
   "source": [
    "# Define test function\n",
    "def Test_3D(X):\n",
    "    \"\"\"2D Test Function\"\"\"\n",
    "    \n",
    "    y = (1-X[:,0])**2 + 100*(X[:,1]-X[:,0]**2)**2 + \\\n",
    "        (1-X[:,1])**2 + 100*(X[:,2]-X[:,1]**2)**2\n",
    "    \n",
    "    return y"
   ]
  },
  {
   "cell_type": "code",
   "execution_count": 28,
   "metadata": {},
   "outputs": [],
   "source": [
    "# Test data\n",
    "lb, ub = np.array([-2, -1, -2]), np.array([2, 3, 2])\n",
    "X_test = (ub-lb)*lhs(3, samples=500) + lb\n",
    "y_test = Test_3D(X_test)\n",
    "\n",
    "# Train data\n",
    "X_train = (ub-lb)*lhs(3, samples=60) + lb\n",
    "y_train = Test_3D(X_train).reshape(-1,1)\n",
    "\n",
    "# Specify initial points\n",
    "initial_theta = [-0.8, -0.78, -1.]"
   ]
  },
  {
   "cell_type": "code",
   "execution_count": null,
   "metadata": {},
   "outputs": [],
   "source": [
    "# GP model training\n",
    "pipe = Pipeline([('scaler', MinMaxScaler()), \n",
    "         ('GP', GPInterpolator(trend='Quadratic', n_restarts=50, optimizer='L-BFGS-B',\n",
    "                              inital_point=initial_theta,\n",
    "                              verbose=False))])\n",
    "pipe.fit(X_train, y_train)"
   ]
  },
  {
   "cell_type": "code",
   "execution_count": 35,
   "metadata": {},
   "outputs": [
    {
     "data": {
      "text/plain": [
       "{'n_restarts': 30,\n",
       " 'optimizer': 'L-BFGS-B',\n",
       " 'init_point': [-0.8, -0.78, -1.0],\n",
       " 'kernel': 'Gaussian',\n",
       " 'trend': 'Const',\n",
       " 'nugget': 1e-10,\n",
       " 'X': array([[0.66824255, 0.29421561, 0.60770644],\n",
       "        [0.04187023, 0.85800459, 0.20394449],\n",
       "        [0.98657227, 0.8609433 , 0.24579972],\n",
       "        [0.0915312 , 0.78386415, 0.75959892],\n",
       "        [0.42269368, 0.40648661, 0.01921103],\n",
       "        [0.8434863 , 0.34424427, 0.56279826],\n",
       "        [0.95553955, 0.50385965, 0.98346352],\n",
       "        [0.27580049, 0.9664477 , 0.31765969],\n",
       "        [0.30647651, 0.2267013 , 0.        ],\n",
       "        [0.02304825, 0.99610534, 0.05190072],\n",
       "        [0.10854705, 0.0905473 , 0.62830475],\n",
       "        [0.2025837 , 0.82313046, 0.08303913],\n",
       "        [0.06291474, 0.95562213, 0.5089296 ],\n",
       "        [0.93239223, 0.03359873, 0.81516804],\n",
       "        [0.94180687, 0.52929557, 0.5695245 ],\n",
       "        [0.78696338, 0.61952152, 0.42003479],\n",
       "        [0.4011491 , 0.65463024, 0.03341561],\n",
       "        [0.77719317, 0.05347427, 0.89037252],\n",
       "        [0.18127895, 0.24713615, 0.79211871],\n",
       "        [1.        , 1.        , 0.15642642],\n",
       "        [0.72878887, 0.11843584, 0.49596338],\n",
       "        [0.51400485, 0.80542148, 0.33725246],\n",
       "        [0.57831884, 0.46250215, 0.65208911],\n",
       "        [0.22029331, 0.71704193, 0.40464515],\n",
       "        [0.60527303, 0.31219324, 0.31305829],\n",
       "        [0.37999568, 0.91829797, 0.95383865],\n",
       "        [0.59265064, 0.42692692, 0.68175877],\n",
       "        [0.45108018, 0.73202452, 0.10025418],\n",
       "        [0.00265796, 0.18797968, 0.74865687],\n",
       "        [0.64906944, 0.43784875, 0.87130319],\n",
       "        [0.8241606 , 0.36584083, 0.45136265],\n",
       "        [0.31864617, 0.67696839, 0.93539702],\n",
       "        [0.34230171, 0.21494851, 0.46872658],\n",
       "        [0.        , 0.3856959 , 0.90591411],\n",
       "        [0.88732397, 0.75316244, 0.43972326],\n",
       "        [0.23125865, 0.47209327, 0.72834862],\n",
       "        [0.47620204, 0.19959582, 0.93939209],\n",
       "        [0.49554769, 0.04146866, 0.14055527],\n",
       "        [0.48416343, 0.62733004, 0.53751491],\n",
       "        [0.81401856, 0.        , 0.3930667 ],\n",
       "        [0.24882024, 0.5433653 , 0.60014813],\n",
       "        [0.71002462, 0.15724677, 0.2761389 ],\n",
       "        [0.43666673, 0.27105425, 0.82600197],\n",
       "        [0.86614216, 0.13096126, 0.29862939],\n",
       "        [0.62120072, 0.93486158, 0.86262211],\n",
       "        [0.55900011, 0.14708027, 0.84408452],\n",
       "        [0.88039546, 0.76919294, 0.64061349],\n",
       "        [0.74837883, 0.27794873, 1.        ],\n",
       "        [0.12543384, 0.68973437, 0.25606222],\n",
       "        [0.5394197 , 0.57483916, 0.70034117],\n",
       "        [0.75732926, 0.89554078, 0.17704291],\n",
       "        [0.69761949, 0.34922179, 0.18703006],\n",
       "        [0.16982286, 0.63769107, 0.5284639 ],\n",
       "        [0.14055726, 0.8423495 , 0.78487061],\n",
       "        [0.36952555, 0.55608315, 0.06774228],\n",
       "        [0.3539775 , 0.8806372 , 0.38162271],\n",
       "        [0.91041896, 0.08508377, 0.11882739],\n",
       "        [0.26175869, 0.0070097 , 0.70287514],\n",
       "        [0.07967428, 0.59513279, 0.36137063],\n",
       "        [0.63485006, 0.485501  , 0.22335186]]),\n",
       " 'y': array([[2.20297719e+01],\n",
       "        [4.81548060e+03],\n",
       "        [4.76758463e+03],\n",
       "        [1.17120410e+03],\n",
       "        [5.73577647e+02],\n",
       "        [2.16817136e+02],\n",
       "        [5.82746043e+02],\n",
       "        [7.86722955e+03],\n",
       "        [4.40536989e+02],\n",
       "        [1.07268605e+04],\n",
       "        [8.46595125e+02],\n",
       "        [4.63943418e+03],\n",
       "        [5.82741457e+03],\n",
       "        [1.44331841e+03],\n",
       "        [4.75850066e+02],\n",
       "        [6.10847491e+02],\n",
       "        [2.17209350e+03],\n",
       "        [4.87503258e+02],\n",
       "        [3.64465597e+02],\n",
       "        [1.01231657e+04],\n",
       "        [1.81956032e+02],\n",
       "        [3.42105895e+03],\n",
       "        [5.83264776e+01],\n",
       "        [1.47788751e+03],\n",
       "        [6.93250944e+01],\n",
       "        [3.16482594e+03],\n",
       "        [3.73237834e+01],\n",
       "        [3.06276024e+03],\n",
       "        [1.65529424e+03],\n",
       "        [9.62845569e+01],\n",
       "        [1.58726140e+02],\n",
       "        [2.73420867e+02],\n",
       "        [2.73916028e+01],\n",
       "        [1.21432998e+03],\n",
       "        [1.75760214e+03],\n",
       "        [8.61009100e+00],\n",
       "        [3.00414605e+02],\n",
       "        [4.80588343e+02],\n",
       "        [6.60032595e+02],\n",
       "        [8.00754627e+02],\n",
       "        [1.03768779e+02],\n",
       "        [2.10118830e+02],\n",
       "        [1.66611848e+02],\n",
       "        [7.48606885e+02],\n",
       "        [3.93979893e+03],\n",
       "        [1.72193250e+02],\n",
       "        [1.32030360e+03],\n",
       "        [4.58862990e+02],\n",
       "        [1.61233284e+03],\n",
       "        [2.35977690e+02],\n",
       "        [6.16890141e+03],\n",
       "        [2.07563805e+02],\n",
       "        [5.10744428e+02],\n",
       "        [1.86308470e+03],\n",
       "        [1.12687973e+03],\n",
       "        [4.84202948e+03],\n",
       "        [1.42302071e+03],\n",
       "        [3.13940713e+02],\n",
       "        [7.64812166e+02],\n",
       "        [4.40871494e+02]]),\n",
       " 'K': array([[1.        , 0.85735703, 0.90294555, ..., 0.94995011, 0.91732574,\n",
       "         0.99007178],\n",
       "        [0.85735703, 1.        , 0.85097971, ..., 0.82074142, 0.98189023,\n",
       "         0.90513722],\n",
       "        [0.90294555, 0.85097971, 1.        , ..., 0.75199544, 0.84610895,\n",
       "         0.94267643],\n",
       "        ...,\n",
       "        [0.94995011, 0.82074142, 0.75199544, ..., 1.        , 0.90831171,\n",
       "         0.91839896],\n",
       "        [0.91732574, 0.98189023, 0.84610895, ..., 0.90831171, 1.        ,\n",
       "         0.94281289],\n",
       "        [0.99007178, 0.90513722, 0.94267643, ..., 0.91839896, 0.94281289,\n",
       "         1.        ]]),\n",
       " 'F': array([[1.],\n",
       "        [1.],\n",
       "        [1.],\n",
       "        [1.],\n",
       "        [1.],\n",
       "        [1.],\n",
       "        [1.],\n",
       "        [1.],\n",
       "        [1.],\n",
       "        [1.],\n",
       "        [1.],\n",
       "        [1.],\n",
       "        [1.],\n",
       "        [1.],\n",
       "        [1.],\n",
       "        [1.],\n",
       "        [1.],\n",
       "        [1.],\n",
       "        [1.],\n",
       "        [1.],\n",
       "        [1.],\n",
       "        [1.],\n",
       "        [1.],\n",
       "        [1.],\n",
       "        [1.],\n",
       "        [1.],\n",
       "        [1.],\n",
       "        [1.],\n",
       "        [1.],\n",
       "        [1.],\n",
       "        [1.],\n",
       "        [1.],\n",
       "        [1.],\n",
       "        [1.],\n",
       "        [1.],\n",
       "        [1.],\n",
       "        [1.],\n",
       "        [1.],\n",
       "        [1.],\n",
       "        [1.],\n",
       "        [1.],\n",
       "        [1.],\n",
       "        [1.],\n",
       "        [1.],\n",
       "        [1.],\n",
       "        [1.],\n",
       "        [1.],\n",
       "        [1.],\n",
       "        [1.],\n",
       "        [1.],\n",
       "        [1.],\n",
       "        [1.],\n",
       "        [1.],\n",
       "        [1.],\n",
       "        [1.],\n",
       "        [1.],\n",
       "        [1.],\n",
       "        [1.],\n",
       "        [1.],\n",
       "        [1.]]),\n",
       " 'L': array([[ 1.00000000e+00,  0.00000000e+00,  0.00000000e+00, ...,\n",
       "          0.00000000e+00,  0.00000000e+00,  0.00000000e+00],\n",
       "        [ 8.57357035e-01,  5.14722173e-01,  0.00000000e+00, ...,\n",
       "          0.00000000e+00,  0.00000000e+00,  0.00000000e+00],\n",
       "        [ 9.02945549e-01,  1.49270809e-01,  4.02998215e-01, ...,\n",
       "          0.00000000e+00,  0.00000000e+00,  0.00000000e+00],\n",
       "        ...,\n",
       "        [ 9.49950107e-01,  1.22299171e-02, -2.66957394e-01, ...,\n",
       "          6.47172173e-05,  0.00000000e+00,  0.00000000e+00],\n",
       "        [ 9.17325736e-01,  3.79650546e-01, -9.64197481e-02, ...,\n",
       "          4.68269706e-06,  2.57795762e-05,  0.00000000e+00],\n",
       "        [ 9.90071783e-01,  1.09364267e-01,  8.03244934e-02, ...,\n",
       "         -2.55571894e-06,  1.51619999e-06,  1.44745283e-05]]),\n",
       " 'mu': array([[518549.3318699]]),\n",
       " 'SigmaSqr': array([[4.53781716e+10]]),\n",
       " 'theta': array([-0.74278931, -0.58484452, -2.75649037]),\n",
       " 'NegLnlike': array([259.20383023])}"
      ]
     },
     "execution_count": 35,
     "metadata": {},
     "output_type": "execute_result"
    }
   ],
   "source": [
    "pipe[1].__dict__"
   ]
  },
  {
   "cell_type": "code",
   "execution_count": 30,
   "metadata": {},
   "outputs": [
    {
     "data": {
      "text/plain": [
       "6.881184389527309"
      ]
     },
     "execution_count": 30,
     "metadata": {},
     "output_type": "execute_result"
    }
   ],
   "source": [
    "# Assess accuracy score\n",
    "pipe.score(X_test, y_test)"
   ]
  },
  {
   "cell_type": "code",
   "execution_count": null,
   "metadata": {},
   "outputs": [],
   "source": []
  }
 ],
 "metadata": {
  "kernelspec": {
   "display_name": "Python 3",
   "language": "python",
   "name": "python3"
  },
  "language_info": {
   "codemirror_mode": {
    "name": "ipython",
    "version": 3
   },
   "file_extension": ".py",
   "mimetype": "text/x-python",
   "name": "python",
   "nbconvert_exporter": "python",
   "pygments_lexer": "ipython3",
   "version": "3.8.5"
  }
 },
 "nbformat": 4,
 "nbformat_minor": 4
}
