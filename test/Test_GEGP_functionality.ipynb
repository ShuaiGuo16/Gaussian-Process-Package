{
 "cells": [
  {
   "cell_type": "code",
   "execution_count": 12,
   "metadata": {},
   "outputs": [],
   "source": [
    "# Get path right\n",
    "import sys\n",
    "import os\n",
    "\n",
    "module_path = os.path.abspath(os.path.join('..'))\n",
    "if module_path not in sys.path:\n",
    "    sys.path.append(module_path+\"\\\\GaussianProcess\")\n",
    "\n",
    "import numpy as np\n",
    "import matplotlib.pyplot as plt\n",
    "from pyDOE import lhs\n",
    "from sklearn.preprocessing import MinMaxScaler\n",
    "from sklearn.pipeline import Pipeline\n",
    "\n",
    "# Import GP interpolation module\n",
    "from GEGP import GEGP\n",
    "\n",
    "%matplotlib inline"
   ]
  },
  {
   "cell_type": "code",
   "execution_count": 13,
   "metadata": {},
   "outputs": [],
   "source": [
    "X_train=np.array([0,0.1,0.2,0.4,0.6,1]).reshape(-1,1)\n",
    "y_train =((6*X_train-2)**2)*np.sin(12*X_train-4)\n",
    "grad_train = 12*(6*X_train-2)*np.sin(12*X_train-4) + \\\n",
    "    ((6*X_train-2)**2)*np.cos(12*X_train-4)*12;"
   ]
  },
  {
   "cell_type": "code",
   "execution_count": 15,
   "metadata": {},
   "outputs": [],
   "source": [
    "GEGP = GEGP()"
   ]
  },
  {
   "cell_type": "code",
   "execution_count": 17,
   "metadata": {},
   "outputs": [],
   "source": [
    "GEGP.fit(X_train, y_train, grad_train)"
   ]
  },
  {
   "cell_type": "code",
   "execution_count": 21,
   "metadata": {},
   "outputs": [
    {
     "data": {
      "text/plain": [
       "{'n_restarts': 20,\n",
       " 'opt': 'L-BFGS-B',\n",
       " 'init_point': None,\n",
       " 'verbose': False,\n",
       " 'kernel': 'Gaussian',\n",
       " 'trend': 'Const',\n",
       " 'nugget': 1e-10,\n",
       " 'X': array([[0. ],\n",
       "        [0.1],\n",
       "        [0.2],\n",
       "        [0.4],\n",
       "        [0.6],\n",
       "        [1. ]]),\n",
       " 'y': array([[ 3.02720998],\n",
       "        [-0.65657677],\n",
       "        [-0.63972711],\n",
       "        [ 0.11477697],\n",
       "        [-0.14943781],\n",
       "        [15.82973195]]),\n",
       " 'grad': array([[-49.53815369],\n",
       "        [-16.53326853],\n",
       "        [  9.37165426],\n",
       "        [  4.78098612],\n",
       "        [-31.78839907],\n",
       "        [ 19.55318935]]),\n",
       " 'diff_list': [array([[ 0. , -0.1, -0.2, -0.4, -0.6, -1. ],\n",
       "         [ 0.1,  0. , -0.1, -0.3, -0.5, -0.9],\n",
       "         [ 0.2,  0.1,  0. , -0.2, -0.4, -0.8],\n",
       "         [ 0.4,  0.3,  0.2,  0. , -0.2, -0.6],\n",
       "         [ 0.6,  0.5,  0.4,  0.2,  0. , -0.4],\n",
       "         [ 1. ,  0.9,  0.8,  0.6,  0.4,  0. ]])],\n",
       " 'PsiDot': array([[ 1.00000000e+00,  8.23036933e-01,  4.58856933e-01,\n",
       "          4.43311697e-02,  9.01769782e-04,  3.48283130e-09,\n",
       "          0.00000000e+00, -3.20579804e+00, -3.57457264e+00,\n",
       "         -6.90694529e-01, -2.10748146e-02, -1.35659207e-07],\n",
       "        [ 8.23036933e-01,  1.00000000e+00,  8.23036933e-01,\n",
       "          1.73290167e-01,  7.68215578e-03,  1.40917612e-07,\n",
       "          3.20579804e+00,  0.00000000e+00, -3.20579804e+00,\n",
       "         -2.02493930e+00, -1.49613213e-01, -4.93997350e-06],\n",
       "        [ 4.58856933e-01,  8.23036933e-01,  1.00000000e+00,\n",
       "          4.58856933e-01,  4.43311697e-02,  3.86221780e-06,\n",
       "          3.57457264e+00,  3.20579804e+00,  0.00000000e+00,\n",
       "         -3.57457264e+00, -6.90694529e-01, -1.20349304e-04],\n",
       "        [ 4.43311697e-02,  1.73290167e-01,  4.58856933e-01,\n",
       "          1.00000000e+00,  4.58856933e-01,  9.01769782e-04,\n",
       "          6.90694529e-01,  2.02493930e+00,  3.57457264e+00,\n",
       "          0.00000000e+00, -3.57457264e+00, -2.10748146e-02],\n",
       "        [ 9.01769782e-04,  7.68215578e-03,  4.43311697e-02,\n",
       "          4.58856933e-01,  1.00000000e+00,  4.43311697e-02,\n",
       "          2.10748146e-02,  1.49613213e-01,  6.90694529e-01,\n",
       "          3.57457264e+00,  0.00000000e+00, -6.90694529e-01],\n",
       "        [ 3.48283130e-09,  1.40917612e-07,  3.86221780e-06,\n",
       "          9.01769782e-04,  4.43311697e-02,  1.00000000e+00,\n",
       "          1.35659207e-07,  4.93997350e-06,  1.20349304e-04,\n",
       "          2.10748146e-02,  6.90694529e-01,  0.00000000e+00],\n",
       "        [ 0.00000000e+00,  3.20579804e+00,  3.57457264e+00,\n",
       "          6.90694529e-01,  2.10748146e-02,  1.35659207e-07,\n",
       "          3.89508406e+01,  1.95711275e+01, -9.97365861e+00,\n",
       "         -9.03451666e+00, -4.57404355e-01, -5.14838092e-06],\n",
       "        [-3.20579804e+00,  0.00000000e+00,  3.20579804e+00,\n",
       "          2.02493930e+00,  1.49613213e-01,  4.93997350e-06,\n",
       "          1.95711275e+01,  3.89508406e+01,  1.95711275e+01,\n",
       "         -1.69121287e+01, -2.61455377e+00, -1.67685649e-04],\n",
       "        [-3.57457264e+00, -3.20579804e+00,  0.00000000e+00,\n",
       "          3.57457264e+00,  6.90694529e-01,  1.20349304e-04,\n",
       "         -9.97365861e+00,  1.95711275e+01,  3.89508406e+01,\n",
       "         -9.97365861e+00, -9.03451666e+00, -3.59972860e-03],\n",
       "        [-6.90694529e-01, -2.02493930e+00, -3.57457264e+00,\n",
       "          0.00000000e+00,  3.57457264e+00,  2.10748146e-02,\n",
       "         -9.03451666e+00, -1.69121287e+01, -9.97365861e+00,\n",
       "          3.89508406e+01, -9.97365861e+00, -4.57404355e-01],\n",
       "        [-2.10748146e-02, -1.49613213e-01, -6.90694529e-01,\n",
       "         -3.57457264e+00,  0.00000000e+00,  6.90694529e-01,\n",
       "         -4.57404355e-01, -2.61455377e+00, -9.03451666e+00,\n",
       "         -9.97365861e+00,  3.89508406e+01, -9.03451666e+00],\n",
       "        [-1.35659207e-07, -4.93997350e-06, -1.20349304e-04,\n",
       "         -2.10748146e-02, -6.90694529e-01,  0.00000000e+00,\n",
       "         -5.14838092e-06, -1.67685649e-04, -3.59972860e-03,\n",
       "         -4.57404355e-01, -9.03451666e+00,  3.89508406e+01]]),\n",
       " 'F': array([[1.],\n",
       "        [1.],\n",
       "        [1.],\n",
       "        [1.],\n",
       "        [1.],\n",
       "        [1.],\n",
       "        [0.],\n",
       "        [0.],\n",
       "        [0.],\n",
       "        [0.],\n",
       "        [0.],\n",
       "        [0.]]),\n",
       " 'L': array([[ 1.00000000e+00,  0.00000000e+00,  0.00000000e+00,\n",
       "          0.00000000e+00,  0.00000000e+00,  0.00000000e+00,\n",
       "          0.00000000e+00,  0.00000000e+00,  0.00000000e+00,\n",
       "          0.00000000e+00,  0.00000000e+00,  0.00000000e+00],\n",
       "        [ 8.23036933e-01,  5.67987858e-01,  0.00000000e+00,\n",
       "          0.00000000e+00,  0.00000000e+00,  0.00000000e+00,\n",
       "          0.00000000e+00,  0.00000000e+00,  0.00000000e+00,\n",
       "          0.00000000e+00,  0.00000000e+00,  0.00000000e+00],\n",
       "        [ 4.58856933e-01,  7.84137768e-01,  4.17825654e-01,\n",
       "          0.00000000e+00,  0.00000000e+00,  0.00000000e+00,\n",
       "          0.00000000e+00,  0.00000000e+00,  0.00000000e+00,\n",
       "          0.00000000e+00,  0.00000000e+00,  0.00000000e+00],\n",
       "        [ 4.43311697e-02,  2.40857221e-01,  5.97498077e-01,\n",
       "          7.63556543e-01,  0.00000000e+00,  0.00000000e+00,\n",
       "          0.00000000e+00,  0.00000000e+00,  0.00000000e+00,\n",
       "          0.00000000e+00,  0.00000000e+00,  0.00000000e+00],\n",
       "        [ 9.01769782e-04,  1.22185111e-02,  8.21787509e-02,\n",
       "          5.32733820e-01,  8.42194292e-01,  0.00000000e+00,\n",
       "          0.00000000e+00,  0.00000000e+00,  0.00000000e+00,\n",
       "          0.00000000e+00,  0.00000000e+00,  0.00000000e+00],\n",
       "        [ 3.48283130e-09,  2.43052931e-07,  8.78364615e-06,\n",
       "          1.17406220e-03,  5.18941801e-02,  9.98651899e-01,\n",
       "          0.00000000e+00,  0.00000000e+00,  0.00000000e+00,\n",
       "          0.00000000e+00,  0.00000000e+00,  0.00000000e+00],\n",
       "        [ 0.00000000e+00,  5.64413128e+00, -2.03722259e+00,\n",
       "          7.18350645e-01, -3.12471058e-01,  1.54094726e-02,\n",
       "          1.52657901e+00,  0.00000000e+00,  0.00000000e+00,\n",
       "          0.00000000e+00,  0.00000000e+00,  0.00000000e+00],\n",
       "        [-3.20579804e+00,  4.64532850e+00,  2.47525052e+00,\n",
       "         -5.64152414e-01,  2.29015065e-01, -1.12552919e-02,\n",
       "         -7.38963938e-01,  2.25493308e-01,  0.00000000e+00,\n",
       "          0.00000000e+00,  0.00000000e+00,  0.00000000e+00],\n",
       "        [-3.57457264e+00, -4.64433749e-01,  4.79721018e+00,\n",
       "          1.28160252e+00, -4.48102169e-01,  2.18570167e-02,\n",
       "          8.90655272e-01, -5.36737271e-01,  1.38617106e-01,\n",
       "          0.00000000e+00,  0.00000000e+00,  0.00000000e+00],\n",
       "        [-6.90694529e-01, -2.56426642e+00, -2.98426991e+00,\n",
       "          3.18422641e+00,  2.55929719e+00, -1.15605304e-01,\n",
       "         -1.39330215e+00,  1.55964680e+00, -1.23249547e+00,\n",
       "          6.30042716e-01,  0.00000000e+00,  0.00000000e+00],\n",
       "        [-2.10748146e-02, -2.32870932e-01, -1.19289303e+00,\n",
       "         -3.67333429e+00,  2.44338418e+00,  5.68987420e-01,\n",
       "          1.19235377e+00, -1.73852578e+00,  2.16172088e+00,\n",
       "         -2.53793355e+00,  1.45862700e+00,  0.00000000e+00],\n",
       "        [-1.35659207e-07, -8.50074680e-06, -2.71934712e-04,\n",
       "         -2.73853729e-02, -8.02763649e-01,  4.17471953e-02,\n",
       "         -1.52185094e-01,  2.52559604e-01, -4.09274621e-01,\n",
       "          9.17283343e-01, -2.30658748e+00,  5.64692052e+00]]),\n",
       " 'mu': array([[3.73435984]]),\n",
       " 'SigmaSqr': array([[42.55642029]]),\n",
       " 'theta': array([1.28948684]),\n",
       " 'NegLnlike': array([19.22793946])}"
      ]
     },
     "execution_count": 21,
     "metadata": {},
     "output_type": "execute_result"
    }
   ],
   "source": [
    "GEGP.__dict__"
   ]
  },
  {
   "cell_type": "code",
   "execution_count": 18,
   "metadata": {},
   "outputs": [],
   "source": [
    "X_test = np.linspace(0, 1, 100).reshape(-1,1)\n",
    "y_test = ((6*X_test-2)**2)*np.sin(12*X_test-4)"
   ]
  },
  {
   "cell_type": "code",
   "execution_count": 19,
   "metadata": {},
   "outputs": [],
   "source": [
    "y_pred, y_pred_SSqr = GEGP.predict(X_test)"
   ]
  },
  {
   "cell_type": "code",
   "execution_count": 20,
   "metadata": {},
   "outputs": [
    {
     "name": "stderr",
     "output_type": "stream",
     "text": [
      "<ipython-input-20-1666756b6084>:6: RuntimeWarning: invalid value encountered in sqrt\n",
      "  ax.fill_between(X_test.flatten(), y_pred-1.96*np.sqrt(y_pred_SSqr),\n",
      "<ipython-input-20-1666756b6084>:7: RuntimeWarning: invalid value encountered in sqrt\n",
      "  y_pred+1.96*np.sqrt(y_pred_SSqr),\n"
     ]
    },
    {
     "data": {
      "image/png": "[encoded data removed]",
      "text/plain": [
       "<Figure size 504x360 with 1 Axes>"
      ]
     },
     "metadata": {
      "needs_background": "light"
     },
     "output_type": "display_data"
    }
   ],
   "source": [
    "# Assess prediction results\n",
    "fig, ax = plt.subplots(figsize=(7,5))\n",
    "ax.plot(X_test,y_test,'r--',linewidth=2,label='Test Function')\n",
    "ax.plot(X_train,y_train,'ro',markerfacecolor='r', markersize=10, label='Training Data')\n",
    "ax.plot(X_test,y_pred,'b-', lw=2, label='GP Prediction')\n",
    "ax.fill_between(X_test.flatten(), y_pred-1.96*np.sqrt(y_pred_SSqr), \n",
    "                y_pred+1.96*np.sqrt(y_pred_SSqr),\n",
    "                facecolor='lavender',label='95% Credibility Interval')\n",
    "ax.tick_params(axis='both', which='major', labelsize=12)\n",
    "ax.set_xlabel('x', fontsize=15)\n",
    "ax.set_ylabel('f(x)', fontsize=15)\n",
    "ax.set_ylim([-10,20])\n",
    "ax.legend(loc=\"upper left\",prop={'size': 12});"
   ]
  },
  {
   "cell_type": "code",
   "execution_count": null,
   "metadata": {},
   "outputs": [],
   "source": []
  }
 ],
 "metadata": {
  "kernelspec": {
   "display_name": "Python 3",
   "language": "python",
   "name": "python3"
  },
  "language_info": {
   "codemirror_mode": {
    "name": "ipython",
    "version": 3
   },
   "file_extension": ".py",
   "mimetype": "text/x-python",
   "name": "python",
   "nbconvert_exporter": "python",
   "pygments_lexer": "ipython3",
   "version": "3.8.5"
  }
 },
 "nbformat": 4,
 "nbformat_minor": 4
}
