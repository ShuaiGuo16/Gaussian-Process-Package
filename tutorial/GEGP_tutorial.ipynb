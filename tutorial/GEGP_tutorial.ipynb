{
 "cells": [
  {
   "cell_type": "markdown",
   "metadata": {},
   "source": [
    "# Tutorial 5: Gradient-Enhanced Gaussian Process Model \n",
    "\n",
    "In this notebook, we will walk through the functionalities of the developed package related to training and exploiting a gradient-enhanced Gaussian Process model for interpolation purposes. \n",
    "\n",
    "For a theoretical introduction of the gradient-enhanced Gaussian Process modeling, see: [A. Forrester, A. J. Keane, Recent advances in surrogate-based optimization, *Progress in Aerospace Sciences*, 2009, 45(1), pp. 50-79.](http://www.sciencedirect.com/science/article/pii/S0376042108000766).\n",
    "\n",
    "If you have further questions, please contact Shuai Guo at guo@tfd.mw.tum.de"
   ]
  },
  {
   "cell_type": "code",
   "execution_count": 1,
   "metadata": {},
   "outputs": [],
   "source": [
    "# Get path right\n",
    "import sys\n",
    "import os\n",
    "\n",
    "module_path = os.path.abspath(os.path.join('..'))\n",
    "if module_path not in sys.path:\n",
    "    sys.path.append(module_path+\"\\\\GaussianProcess\")"
   ]
  },
  {
   "cell_type": "code",
   "execution_count": 2,
   "metadata": {},
   "outputs": [],
   "source": [
    "# Import necessary packages\n",
    "import numpy as np\n",
    "import matplotlib.pyplot as plt\n",
    "from sklearn.preprocessing import MinMaxScaler\n",
    "\n",
    "# Import sampler\n",
    "from skopt.space import Space\n",
    "from skopt.sampler import Lhs\n",
    "\n",
    "# Import Gradient-Enhanced GP module\n",
    "from GEGP import GEGP\n",
    "\n",
    "%matplotlib inline"
   ]
  },
  {
   "cell_type": "code",
   "execution_count": 3,
   "metadata": {},
   "outputs": [],
   "source": [
    "lhs = Lhs(criterion=\"maximin\")\n",
    "x = np.array(lhs.generate([(-2.,2.),(0.,5.)], 10))"
   ]
  },
  {
   "cell_type": "markdown",
   "metadata": {},
   "source": [
    "## 1. Testing function (1D)\n",
    "\n",
    "### 1.1 Analytical function\n",
    "\n",
    "In this tutorial, we consider the following reference function:\n",
    "\n",
    "\\begin{equation}\n",
    "y = (6x-2)^2sin(12x-4), x \\in [0,1]\n",
    "\\end{equation}"
   ]
  },
  {
   "cell_type": "markdown",
   "metadata": {},
   "source": [
    "### 1.2 Generating training dataset"
   ]
  },
  {
   "cell_type": "code",
   "execution_count": 4,
   "metadata": {},
   "outputs": [],
   "source": [
    "X_train=np.array([0,0.1, 0.2,0.4,0.6,0.8, 1]).reshape(-1,1)\n",
    "y_train =((6*X_train-2)**2)*np.sin(12*X_train-4)\n",
    "grad_train = 12*(6*X_train-2)*np.sin(12*X_train-4) + \\\n",
    "    ((6*X_train-2)**2)*np.cos(12*X_train-4)*12"
   ]
  },
  {
   "cell_type": "markdown",
   "metadata": {},
   "source": [
    "### 1.3 Initiate a gradient-enhanced GP model\n",
    "\n",
    "To train agradient-enhanced Gaussian Process (GEGP) model and later use it for performing interpolating tasks, we first need to initiate a `GEGP` class. There are several parameters need to be specified in determining how the GEGP model is constructed and trained. Those parameters include:\n",
    "\n",
    "1. `n_restarts`: integer, number of local optimizers used for GP model parameter tuning. This parameter exists because the current Gaussian Process package employed a multi-start strategy to optimize the model parameter globally, i.e., random starting points are generated in the search space and each starting point is assigned to one local optimizer to find identify the local optimum around that starting point. The default value for `n_restarts` is 20. In general, a larger `n_restarts` number improve the chance of locating the global optimum.\n",
    "\n",
    "2. `opt`: str, indicates the algorithms used by the local optimizer. The default optimizer uses [\"L-BFGS-B\"](https://docs.scipy.org/doc/scipy/reference/optimize.minimize-lbfgsb.html) algorithm. For other available methods, please refer to the [official documentations](https://docs.scipy.org/doc/scipy/reference/generated/scipy.optimize.minimize.html#scipy.optimize.minimize).\n",
    "\n",
    "3. `inital_point`: array, user-specified starting points for model parameter optimization. The default value is `None`, meaning that the GP package will automatically handle the starting-point generation for user. However, a user might want to manually specify a starting point when s/he has the prior knowledge about where the optimum parameter value may be located. \n",
    "\n",
    "4. `verbose`: bool, determins whether to display optimization results, default value is False, i.e., not displaying the results.\n",
    "\n",
    "5. `kernel`: str, determins which kernel to use for GP model. Currently, only **Gaussian** kernel is available.\n",
    "\n",
    "6. `trend`: str, determins which global trend type to use for GP model. Currently, only **Const** is available.\n",
    "\n",
    "7. `nugget`: float, the nugget term to be added to the diagonal of the kernel matrix. This practice can avoid numerical instability when coverting the kernel matrix. The default value is $10^{-10}$."
   ]
  },
  {
   "cell_type": "code",
   "execution_count": 5,
   "metadata": {},
   "outputs": [],
   "source": [
    "GEGP_1D = GEGP()"
   ]
  },
  {
   "cell_type": "markdown",
   "metadata": {},
   "source": [
    "### 1.4 Fit a gradient-enhanced GP model"
   ]
  },
  {
   "cell_type": "code",
   "execution_count": 6,
   "metadata": {},
   "outputs": [],
   "source": [
    "GEGP_1D.fit(X_train, y_train, grad_train)"
   ]
  },
  {
   "cell_type": "code",
   "execution_count": 7,
   "metadata": {},
   "outputs": [
    {
     "data": {
      "text/plain": [
       "{'n_restarts': 20,\n",
       " 'opt': 'L-BFGS-B',\n",
       " 'init_point': None,\n",
       " 'verbose': False,\n",
       " 'kernel': 'Gaussian',\n",
       " 'trend': 'Const',\n",
       " 'nugget': 1e-10,\n",
       " 'X': array([[0. ],\n",
       "        [0.1],\n",
       "        [0.2],\n",
       "        [0.4],\n",
       "        [0.6],\n",
       "        [0.8],\n",
       "        [1. ]]),\n",
       " 'y': array([[ 3.02720998],\n",
       "        [-0.65657677],\n",
       "        [-0.63972711],\n",
       "        [ 0.11477697],\n",
       "        [-0.14943781],\n",
       "        [-4.94913044],\n",
       "        [15.82973195]]),\n",
       " 'grad': array([[-49.53815369],\n",
       "        [-16.53326853],\n",
       "        [  9.37165426],\n",
       "        [  4.78098612],\n",
       "        [-31.78839907],\n",
       "        [ 51.75467882],\n",
       "        [ 19.55318935]]),\n",
       " 'diff_list': [array([[ 0. , -0.1, -0.2, -0.4, -0.6, -0.8, -1. ],\n",
       "         [ 0.1,  0. , -0.1, -0.3, -0.5, -0.7, -0.9],\n",
       "         [ 0.2,  0.1,  0. , -0.2, -0.4, -0.6, -0.8],\n",
       "         [ 0.4,  0.3,  0.2,  0. , -0.2, -0.4, -0.6],\n",
       "         [ 0.6,  0.5,  0.4,  0.2,  0. , -0.2, -0.4],\n",
       "         [ 0.8,  0.7,  0.6,  0.4,  0.2,  0. , -0.2],\n",
       "         [ 1. ,  0.9,  0.8,  0.6,  0.4,  0.2,  0. ]])],\n",
       " 'PsiDot': array([[ 1.00000000e+00,  9.21711577e-01,  7.21738992e-01,\n",
       "          2.71344283e-01,  5.31399964e-02,  5.42104114e-03,\n",
       "          2.88074106e-04,  0.00000000e+00, -1.50281253e+00,\n",
       "         -2.35353104e+00, -1.76966243e+00, -5.19855372e-01,\n",
       "         -7.07102634e-02, -4.69692893e-03],\n",
       "        [ 9.21711577e-01,  1.00000000e+00,  9.21711577e-01,\n",
       "          4.80126172e-01,  1.30279492e-01,  1.84143787e-02,\n",
       "          1.35580871e-03,  1.50281253e+00,  0.00000000e+00,\n",
       "         -1.50281253e+00, -2.34847748e+00, -1.06207656e+00,\n",
       "         -2.10167169e-01, -1.98953093e-02],\n",
       "        [ 7.21738992e-01,  9.21711577e-01,  1.00000000e+00,\n",
       "          7.21738992e-01,  2.71344283e-01,  5.31399964e-02,\n",
       "          5.42104114e-03,  2.35353104e+00,  1.50281253e+00,\n",
       "          0.00000000e+00, -2.35353104e+00, -1.76966243e+00,\n",
       "         -5.19855372e-01, -7.07102634e-02],\n",
       "        [ 2.71344283e-01,  4.80126172e-01,  7.21738992e-01,\n",
       "          1.00000000e+00,  7.21738992e-01,  2.71344283e-01,\n",
       "          5.31399964e-02,  1.76966243e+00,  2.34847748e+00,\n",
       "          2.35353104e+00,  0.00000000e+00, -2.35353104e+00,\n",
       "         -1.76966243e+00, -5.19855372e-01],\n",
       "        [ 5.31399964e-02,  1.30279492e-01,  2.71344283e-01,\n",
       "          7.21738992e-01,  1.00000000e+00,  7.21738992e-01,\n",
       "          2.71344283e-01,  5.19855372e-01,  1.06207656e+00,\n",
       "          1.76966243e+00,  2.35353104e+00,  0.00000000e+00,\n",
       "         -2.35353104e+00, -1.76966243e+00],\n",
       "        [ 5.42104114e-03,  1.84143787e-02,  5.31399964e-02,\n",
       "          2.71344283e-01,  7.21738992e-01,  1.00000000e+00,\n",
       "          7.21738992e-01,  7.07102634e-02,  2.10167169e-01,\n",
       "          5.19855372e-01,  1.76966243e+00,  2.35353104e+00,\n",
       "          0.00000000e+00, -2.35353104e+00],\n",
       "        [ 2.88074106e-04,  1.35580871e-03,  5.42104114e-03,\n",
       "          5.31399964e-02,  2.71344283e-01,  7.21738992e-01,\n",
       "          1.00000000e+00,  4.69692893e-03,  1.98953093e-02,\n",
       "          7.07102634e-02,  5.19855372e-01,  1.76966243e+00,\n",
       "          2.35353104e+00,  0.00000000e+00],\n",
       "        [ 0.00000000e+00,  1.50281253e+00,  2.35353104e+00,\n",
       "          1.76966243e+00,  5.19855372e-01,  7.07102634e-02,\n",
       "          4.69692893e-03,  1.63045856e+01,  1.25778517e+01,\n",
       "          4.09298553e+00, -7.11728897e+00, -4.21919022e+00,\n",
       "         -8.33933404e-01, -7.18845508e-02],\n",
       "        [-1.50281253e+00,  0.00000000e+00,  1.50281253e+00,\n",
       "          2.34847748e+00,  1.06207656e+00,  2.10167169e-01,\n",
       "          1.98953093e-02,  1.25778517e+01,  1.63045856e+01,\n",
       "          1.25778517e+01, -3.65902736e+00, -6.53420599e+00,\n",
       "         -2.09844321e+00, -2.69840397e-01],\n",
       "        [-2.35353104e+00, -1.50281253e+00,  0.00000000e+00,\n",
       "          2.35353104e+00,  1.76966243e+00,  5.19855372e-01,\n",
       "          7.07102634e-02,  4.09298553e+00,  1.25778517e+01,\n",
       "          1.63045856e+01,  4.09298553e+00, -7.11728897e+00,\n",
       "         -4.21919022e+00, -8.33933404e-01],\n",
       "        [-1.76966243e+00, -2.34847748e+00, -2.35353104e+00,\n",
       "          0.00000000e+00,  2.35353104e+00,  1.76966243e+00,\n",
       "          5.19855372e-01, -7.11728897e+00, -3.65902736e+00,\n",
       "          4.09298553e+00,  1.63045856e+01,  4.09298553e+00,\n",
       "         -7.11728897e+00, -4.21919022e+00],\n",
       "        [-5.19855372e-01, -1.06207656e+00, -1.76966243e+00,\n",
       "         -2.35353104e+00,  0.00000000e+00,  2.35353104e+00,\n",
       "          1.76966243e+00, -4.21919022e+00, -6.53420599e+00,\n",
       "         -7.11728897e+00,  4.09298553e+00,  1.63045856e+01,\n",
       "          4.09298553e+00, -7.11728897e+00],\n",
       "        [-7.07102634e-02, -2.10167169e-01, -5.19855372e-01,\n",
       "         -1.76966243e+00, -2.35353104e+00,  0.00000000e+00,\n",
       "          2.35353104e+00, -8.33933404e-01, -2.09844321e+00,\n",
       "         -4.21919022e+00, -7.11728897e+00,  4.09298553e+00,\n",
       "          1.63045856e+01,  4.09298553e+00],\n",
       "        [-4.69692893e-03, -1.98953093e-02, -7.07102634e-02,\n",
       "         -5.19855372e-01, -1.76966243e+00, -2.35353104e+00,\n",
       "          0.00000000e+00, -7.18845508e-02, -2.69840397e-01,\n",
       "         -8.33933404e-01, -4.21919022e+00, -7.11728897e+00,\n",
       "          4.09298553e+00,  1.63045856e+01]]),\n",
       " 'F': array([[1.],\n",
       "        [1.],\n",
       "        [1.],\n",
       "        [1.],\n",
       "        [1.],\n",
       "        [1.],\n",
       "        [1.],\n",
       "        [0.],\n",
       "        [0.],\n",
       "        [0.],\n",
       "        [0.],\n",
       "        [0.],\n",
       "        [0.],\n",
       "        [0.]]),\n",
       " 'L': array([[ 1.00000000e+00,  0.00000000e+00,  0.00000000e+00,\n",
       "          0.00000000e+00,  0.00000000e+00,  0.00000000e+00,\n",
       "          0.00000000e+00,  0.00000000e+00,  0.00000000e+00,\n",
       "          0.00000000e+00,  0.00000000e+00,  0.00000000e+00,\n",
       "          0.00000000e+00,  0.00000000e+00],\n",
       "        [ 9.21711577e-01,  3.87875972e-01,  0.00000000e+00,\n",
       "          0.00000000e+00,  0.00000000e+00,  0.00000000e+00,\n",
       "          0.00000000e+00,  0.00000000e+00,  0.00000000e+00,\n",
       "          0.00000000e+00,  0.00000000e+00,  0.00000000e+00,\n",
       "          0.00000000e+00,  0.00000000e+00],\n",
       "        [ 7.21738992e-01,  6.61232999e-01,  2.04606325e-01,\n",
       "          0.00000000e+00,  0.00000000e+00,  0.00000000e+00,\n",
       "          0.00000000e+00,  0.00000000e+00,  0.00000000e+00,\n",
       "          0.00000000e+00,  0.00000000e+00,  0.00000000e+00,\n",
       "          0.00000000e+00,  0.00000000e+00],\n",
       "        [ 2.71344283e-01,  5.93037521e-01,  6.53759185e-01,\n",
       "          3.83767777e-01,  0.00000000e+00,  0.00000000e+00,\n",
       "          0.00000000e+00,  0.00000000e+00,  0.00000000e+00,\n",
       "          0.00000000e+00,  0.00000000e+00,  0.00000000e+00,\n",
       "          0.00000000e+00,  0.00000000e+00],\n",
       "        [ 5.31399964e-02,  2.09602419e-01,  4.61349566e-01,\n",
       "          7.33271940e-01,  4.50235278e-01,  0.00000000e+00,\n",
       "          0.00000000e+00,  0.00000000e+00,  0.00000000e+00,\n",
       "          0.00000000e+00,  0.00000000e+00,  0.00000000e+00,\n",
       "          0.00000000e+00,  0.00000000e+00],\n",
       "        [ 5.42104114e-03,  3.45928680e-02,  1.28800875e-01,\n",
       "          4.30347988e-01,  7.53419054e-01,  4.78899382e-01,\n",
       "          0.00000000e+00,  0.00000000e+00,  0.00000000e+00,\n",
       "          0.00000000e+00,  0.00000000e+00,  0.00000000e+00,\n",
       "          0.00000000e+00,  0.00000000e+00],\n",
       "        [ 2.88074106e-04,  2.81091780e-03,  1.63946799e-02,\n",
       "          1.05992945e-01,  4.11905681e-01,  7.59193096e-01,\n",
       "          4.92390372e-01,  0.00000000e+00,  0.00000000e+00,\n",
       "          0.00000000e+00,  0.00000000e+00,  0.00000000e+00,\n",
       "          0.00000000e+00,  0.00000000e+00],\n",
       "        [ 0.00000000e+00,  3.87446668e+00, -1.01851292e+00,\n",
       "          3.59124719e-01, -1.90317834e-01,  1.18411485e-01,\n",
       "         -7.93365557e-02,  2.64986733e-01,  0.00000000e+00,\n",
       "          0.00000000e+00,  0.00000000e+00,  0.00000000e+00,\n",
       "          0.00000000e+00,  0.00000000e+00],\n",
       "        [-1.50281253e+00,  3.57114079e+00,  1.10502349e+00,\n",
       "         -2.18837211e-01,  9.79073573e-02, -5.66697989e-02,\n",
       "          3.66852520e-02, -9.84553397e-02,  1.70391251e-02,\n",
       "          0.00000000e+00,  0.00000000e+00,  0.00000000e+00,\n",
       "          0.00000000e+00,  0.00000000e+00],\n",
       "        [-2.35353104e+00,  1.71824067e+00,  2.74907280e+00,\n",
       "          4.58442456e-01, -1.55174137e-01,  8.08384160e-02,\n",
       "         -4.98756137e-02,  1.05612366e-01, -3.56654267e-02,\n",
       "          5.29717285e-03,  0.00000000e+00,  0.00000000e+00,\n",
       "          0.00000000e+00,  0.00000000e+00],\n",
       "        [-1.76966243e+00, -1.84945492e+00,  7.16615051e-01,\n",
       "          2.88844020e+00,  8.58659772e-01, -2.90315492e-01,\n",
       "          1.51058099e-01, -1.85996842e-01,  1.18093005e-01,\n",
       "         -5.13232404e-02,  1.41391946e-02,  0.00000000e+00,\n",
       "          0.00000000e+00,  0.00000000e+00],\n",
       "        [-5.19855372e-01, -1.50285114e+00, -1.95853072e+00,\n",
       "         -1.06357779e-01,  2.94109077e+00,  1.02421227e+00,\n",
       "         -3.48519488e-01,  2.18035540e-01, -1.91967099e-01,\n",
       "          1.33421639e-01, -7.43455792e-02,  2.02209239e-02,\n",
       "          0.00000000e+00,  0.00000000e+00],\n",
       "        [-7.07102634e-02, -3.73812020e-01, -1.08327137e+00,\n",
       "         -2.13825260e+00, -4.52506028e-01,  2.95252045e+00,\n",
       "          1.10452687e+00, -2.60921152e-01,  2.78912847e-01,\n",
       "         -2.55547722e-01,  2.13047359e-01, -1.20063291e-01,\n",
       "          3.39058324e-02,  0.00000000e+00],\n",
       "        [-4.69692893e-03, -4.01316314e-02, -1.99328870e-01,\n",
       "         -9.49710386e-01, -2.16030359e+00, -6.05813542e-01,\n",
       "          2.95256681e+00,  4.39595694e-01, -5.28725159e-01,\n",
       "          5.76167961e-01, -6.25746640e-01,  5.42716452e-01,\n",
       "         -3.29697794e-01,  1.00667331e-01]]),\n",
       " 'mu': array([[-22.77259527]]),\n",
       " 'SigmaSqr': array([[2265.02639769]]),\n",
       " 'theta': array([0.91127977]),\n",
       " 'NegLnlike': array([23.86235907])}"
      ]
     },
     "execution_count": 7,
     "metadata": {},
     "output_type": "execute_result"
    }
   ],
   "source": [
    "GEGP_1D.__dict__"
   ]
  },
  {
   "cell_type": "markdown",
   "metadata": {},
   "source": [
    "### 1.5 Predicting on the test dataset"
   ]
  },
  {
   "cell_type": "code",
   "execution_count": 8,
   "metadata": {},
   "outputs": [],
   "source": [
    "X_test = np.linspace(0, 1, 100).reshape(-1,1)\n",
    "y_test = ((6*X_test-2)**2)*np.sin(12*X_test-4)\n",
    "grad_test = 12*(6*X_test-2)*np.sin(12*X_test-4) + \\\n",
    "    ((6*X_test-2)**2)*np.cos(12*X_test-4)*12"
   ]
  },
  {
   "cell_type": "code",
   "execution_count": 9,
   "metadata": {},
   "outputs": [],
   "source": [
    "y_pred, y_pred_SSqr = GEGP_1D.predict(X_test)"
   ]
  },
  {
   "cell_type": "code",
   "execution_count": 10,
   "metadata": {
    "scrolled": true
   },
   "outputs": [
    {
     "data": {
      "image/png": "[encoded data removed]",
      "text/plain": [
       "<Figure size 504x360 with 1 Axes>"
      ]
     },
     "metadata": {
      "needs_background": "light"
     },
     "output_type": "display_data"
    }
   ],
   "source": [
    "# Assess prediction results\n",
    "fig, ax = plt.subplots(figsize=(7,5))\n",
    "ax.plot(X_test,y_test,'r--',linewidth=2,label='Test Function')\n",
    "ax.plot(X_train,y_train,'ro',markerfacecolor='r', markersize=10, label='Training Data')\n",
    "ax.plot(X_test,y_pred,'b-', lw=2, label='GP Prediction')\n",
    "ax.fill_between(X_test.flatten(), y_pred-1.96*np.sqrt(y_pred_SSqr), \n",
    "                y_pred+1.96*np.sqrt(y_pred_SSqr),\n",
    "                facecolor='lavender',label='95% Credibility Interval')\n",
    "ax.tick_params(axis='both', which='major', labelsize=12)\n",
    "ax.set_xlabel('x', fontsize=15)\n",
    "ax.set_ylabel('f(x)', fontsize=15)\n",
    "ax.set_ylim([-10,20])\n",
    "ax.legend(loc=\"upper left\",prop={'size': 12});"
   ]
  },
  {
   "cell_type": "markdown",
   "metadata": {},
   "source": [
    "### 1.6 Gradient predictions\n",
    "\n",
    "The current GEGP package also allows computing the gradients of the output against the inputs. We use `.predict_grad` method to achieve that goal. Notice that the array returned by the `.predict_grad` method is of shape $n_{sample} \\times n_{parameters}$, meaning that each row of the array holds the gradient values of the output against individual input parameter at a specific sample location. "
   ]
  },
  {
   "cell_type": "code",
   "execution_count": 11,
   "metadata": {},
   "outputs": [],
   "source": [
    "grad_cal = GEGP_1D.predict_grad(X_test)"
   ]
  },
  {
   "cell_type": "code",
   "execution_count": 12,
   "metadata": {
    "scrolled": true
   },
   "outputs": [
    {
     "data": {
      "image/png": "[encoded data removed]",
      "text/plain": [
       "<Figure size 504x360 with 1 Axes>"
      ]
     },
     "metadata": {
      "needs_background": "light"
     },
     "output_type": "display_data"
    }
   ],
   "source": [
    "# Assess prediction results\n",
    "fig, ax = plt.subplots(figsize=(7,5))\n",
    "ax.plot(grad_cal.flatten(), grad_test.flatten(),'o')\n",
    "ax.tick_params(axis='both', which='major', labelsize=12)\n",
    "ax.set_xlabel('GEGP prediction', fontsize=15)\n",
    "ax.set_ylabel('Reference', fontsize=15);"
   ]
  },
  {
   "cell_type": "markdown",
   "metadata": {},
   "source": [
    "## 2. Test Function (2D)\n",
    "\n",
    "### 2.1 Nominal value predictions\n",
    "\n",
    "We further showcase how to train and exploit a gradient-enhanced GP model for multi-dimensional problems. Here, we consider the task of interpolating a two-dimensional analytical function.\n",
    "\n",
    "\\begin{equation}\n",
    "y = (1-x_1)^2 + 100(x_2-x_1^2)^2, x_1 \\in [-2,2] \\; x_2 \\in [-1,3]\n",
    "\\end{equation}"
   ]
  },
  {
   "cell_type": "code",
   "execution_count": 14,
   "metadata": {},
   "outputs": [],
   "source": [
    "# 2D Test function\n",
    "def Test_2D(X):\n",
    "    \"\"\"2D Test Function\"\"\"\n",
    "    \n",
    "    y = (1-X[:,[0]])**2 + 100*(X[:,[1]]-X[:,[0]]**2)**2\n",
    "    \n",
    "    grad = np.zeros_like(X)\n",
    "    grad[:,[0]] = 2*(X[:,[0]]-1) - 400*(X[:,[1]]-X[:,[0]]**2)*X[:,[0]]\n",
    "    grad[:,[1]] = 200*(X[:,[1]]-X[:,[0]]**2)\n",
    "    \n",
    "    return y, grad"
   ]
  },
  {
   "cell_type": "markdown",
   "metadata": {},
   "source": [
    "One thing to keep in mind is that the gradient training data also needs to be properly scaled before feeding into the GEGP training."
   ]
  },
  {
   "cell_type": "code",
   "execution_count": 15,
   "metadata": {},
   "outputs": [],
   "source": [
    "def scale_grad(grad, lb, ub, inverse=False):\n",
    "    \"\"\"Scale the gradients\"\"\"\n",
    "    if inverse is False:\n",
    "        # Forward scaling: Converting to [0,1] scale \n",
    "        scaled_grad = grad*(ub-lb)     \n",
    "    else:\n",
    "        # Inverse scaling: Converting back to original scale \n",
    "        scaled_grad = grad/(ub-lb) \n",
    "        \n",
    "    return scaled_grad"
   ]
  },
  {
   "cell_type": "markdown",
   "metadata": {},
   "source": [
    "### 2.2 Generating training dataset"
   ]
  },
  {
   "cell_type": "code",
   "execution_count": 16,
   "metadata": {},
   "outputs": [],
   "source": [
    "# Set number of training data\n",
    "sample_num = 10\n",
    "\n",
    "# Set parameter space\n",
    "lb, ub = np.array([-2, -1]), np.array([2, 3])\n",
    "\n",
    "# Generate random samples (Latin Hypercube sampling)\n",
    "dimension = [(lb[i],ub[i]) for i in range(len(lb))]\n",
    "lhs_sampler= Lhs(criterion=\"maximin\")\n",
    "X_train = np.array(lhs_sampler.generate(dimension, sample_num)) \n",
    "\n",
    "# Compute labels\n",
    "y_train, grad_train = Test_2D(X_train)\n",
    "\n",
    "# Test data\n",
    "X1 = np.linspace(-2, 2, 20)\n",
    "X2 = np.linspace(-1, 3, 20)\n",
    "X1, X2 = np.meshgrid(X1, X2)\n",
    "X_test = np.hstack((X1.reshape(-1,1), X2.reshape(-1,1)))\n",
    "y_test, grad_test = Test_2D(X_test)"
   ]
  },
  {
   "cell_type": "code",
   "execution_count": 17,
   "metadata": {},
   "outputs": [
    {
     "data": {
      "image/png": "[encoded data removed]",
      "text/plain": [
       "<Figure size 504x360 with 1 Axes>"
      ]
     },
     "metadata": {
      "needs_background": "light"
     },
     "output_type": "display_data"
    }
   ],
   "source": [
    "# Inspect sampling\n",
    "fig, ax = plt.subplots(figsize=(7,5))\n",
    "ax.scatter(X_train[:,0], X_train[:,1], c='r', label='Training Data')\n",
    "ax.set_xlabel(r'$x_1$', fontsize=15)\n",
    "ax.set_ylabel(r'$x_2$', fontsize=15)\n",
    "ax.legend(loc=\"upper left\",prop={'size': 12});"
   ]
  },
  {
   "cell_type": "markdown",
   "metadata": {},
   "source": [
    "### 2.3 Normalization"
   ]
  },
  {
   "cell_type": "code",
   "execution_count": 18,
   "metadata": {},
   "outputs": [],
   "source": [
    "# Normalize training data\n",
    "scaler = MinMaxScaler()\n",
    "X_train_std = scaler.fit_transform(X_train)\n",
    "grad_train_std = scale_grad(grad_train, lb, ub, inverse=False)"
   ]
  },
  {
   "cell_type": "markdown",
   "metadata": {},
   "source": [
    "### 2.4 Fitting a GEGP model"
   ]
  },
  {
   "cell_type": "code",
   "execution_count": 19,
   "metadata": {},
   "outputs": [],
   "source": [
    "# Fit a GEGP model\n",
    "GEGP_2D = GEGP(n_restarts=40)\n",
    "GEGP_2D.fit(X_train_std, y_train, grad_train_std.reshape((-1,1), order='F'))"
   ]
  },
  {
   "cell_type": "markdown",
   "metadata": {},
   "source": [
    "### 2.5 GEGP prediction"
   ]
  },
  {
   "cell_type": "code",
   "execution_count": 20,
   "metadata": {},
   "outputs": [],
   "source": [
    "# GEGP predictions\n",
    "y_pred, y_pred_SSqr = GEGP_2D.predict(scaler.transform(X_test))\n",
    "\n",
    "# Gradient predictions\n",
    "grad_cal = GEGP_2D.predict_grad(scaler.transform(X_test))\n",
    "\n",
    "# Scale the gradients back to original scale\n",
    "grad_cal = scale_grad(grad_cal, lb, ub, inverse=True)"
   ]
  },
  {
   "cell_type": "code",
   "execution_count": 21,
   "metadata": {},
   "outputs": [
    {
     "data": {
      "text/plain": [
       "Text(0, 0.5, 'Reference')"
      ]
     },
     "execution_count": 21,
     "metadata": {},
     "output_type": "execute_result"
    },
    {
     "data": {
      "image/png": "[encoded data removed]",
      "text/plain": [
       "<Figure size 720x288 with 2 Axes>"
      ]
     },
     "metadata": {
      "needs_background": "light"
     },
     "output_type": "display_data"
    }
   ],
   "source": [
    "fig, ax = plt.subplots(1, 2, figsize=(10,4))\n",
    "\n",
    "# Check nominal predictions\n",
    "ax[0].plot(y_pred, y_test.flatten(),'o')\n",
    "ax[0].tick_params(axis='both', which='major', labelsize=12)\n",
    "ax[0].set_xlabel('GEGP prediction', fontsize=15)\n",
    "ax[0].set_ylabel('Reference', fontsize=15)\n",
    "\n",
    "# Check gradient calculations\n",
    "ax[1].plot(grad_cal[:,1], grad_test[:,1],'o')\n",
    "ax[1].tick_params(axis='both', which='major', labelsize=12)\n",
    "ax[1].set_xlabel('GEGP prediction', fontsize=15)\n",
    "ax[1].set_ylabel('Reference', fontsize=15)"
   ]
  },
  {
   "cell_type": "code",
   "execution_count": 22,
   "metadata": {},
   "outputs": [
    {
     "data": {
      "image/png": "[encoded data removed]",
      "text/plain": [
       "<Figure size 720x288 with 4 Axes>"
      ]
     },
     "metadata": {
      "needs_background": "light"
     },
     "output_type": "display_data"
    }
   ],
   "source": [
    "# Post-processing - Contour plot\n",
    "fig, ax = plt.subplots(1, 2, figsize=(10,4))\n",
    "title = ['True Function', 'GEGP Approximation']\n",
    "display_y = [y_test, y_pred]\n",
    "\n",
    "for i in range(2):\n",
    "    h = ax[i].contourf(X_test[:,0].reshape(20,-1), \n",
    "                   X_test[:,1].reshape(20,-1), \n",
    "                   display_y[i].reshape(20,-1), levels=15, cmap='GnBu');\n",
    "    ax[i].set_xlabel(r'$x_1$', fontsize=15)\n",
    "    ax[i].set_ylabel(r'$x_2$', fontsize=15)\n",
    "    ax[i].set_title(title[i], fontsize=15)\n",
    "    fig.colorbar(h, ax=ax[i])\n",
    "plt.tight_layout()"
   ]
  },
  {
   "cell_type": "markdown",
   "metadata": {},
   "source": [
    "### 2.6 Prediction only mode\n",
    "\n",
    "We can also use the **prediction-only** mode with `.predict_only` method."
   ]
  },
  {
   "cell_type": "code",
   "execution_count": 25,
   "metadata": {},
   "outputs": [],
   "source": [
    "# Assigh theta value\n",
    "custom_theta = GEGP_2D.theta\n",
    "\n",
    "# Initiate a GEGP model\n",
    "GEGP_predictor = GEGP()\n",
    "\n",
    "# Predicting only mode\n",
    "y_pred, y_pred_SSqr, grad_cal = GEGP_predictor.predict_only(X_train=X_train_std, \n",
    "                                                            y_train=y_train, \n",
    "                                                            grad_train=grad_train_std.reshape((-1,1), order='F'), \n",
    "                                                            theta=custom_theta, \n",
    "                                                            X_test=scaler.transform(X_test))\n",
    "\n",
    "# Scale the gradients back to original scale\n",
    "grad_cal = scale_grad(grad_cal, lb, ub, inverse=True)"
   ]
  },
  {
   "cell_type": "code",
   "execution_count": 26,
   "metadata": {},
   "outputs": [
    {
     "data": {
      "text/plain": [
       "Text(0, 0.5, 'Reference')"
      ]
     },
     "execution_count": 26,
     "metadata": {},
     "output_type": "execute_result"
    },
    {
     "data": {
      "image/png": "[encoded data removed]",
      "text/plain": [
       "<Figure size 720x288 with 2 Axes>"
      ]
     },
     "metadata": {
      "needs_background": "light"
     },
     "output_type": "display_data"
    }
   ],
   "source": [
    "fig, ax = plt.subplots(1, 2, figsize=(10,4))\n",
    "\n",
    "# Check nominal predictions\n",
    "ax[0].plot(y_pred, y_test.flatten(),'o')\n",
    "ax[0].tick_params(axis='both', which='major', labelsize=12)\n",
    "ax[0].set_xlabel('GEGP prediction', fontsize=15)\n",
    "ax[0].set_ylabel('Reference', fontsize=15)\n",
    "\n",
    "# Check gradient calculations\n",
    "ax[1].plot(grad_cal[:,1], grad_test[:,1],'o')\n",
    "ax[1].tick_params(axis='both', which='major', labelsize=12)\n",
    "ax[1].set_xlabel('GEGP prediction', fontsize=15)\n",
    "ax[1].set_ylabel('Reference', fontsize=15)"
   ]
  },
  {
   "cell_type": "code",
   "execution_count": null,
   "metadata": {},
   "outputs": [],
   "source": []
  }
 ],
 "metadata": {
  "kernelspec": {
   "display_name": "Python 3",
   "language": "python",
   "name": "python3"
  },
  "language_info": {
   "codemirror_mode": {
    "name": "ipython",
    "version": 3
   },
   "file_extension": ".py",
   "mimetype": "text/x-python",
   "name": "python",
   "nbconvert_exporter": "python",
   "pygments_lexer": "ipython3",
   "version": "3.8.5"
  }
 },
 "nbformat": 4,
 "nbformat_minor": 4
}
