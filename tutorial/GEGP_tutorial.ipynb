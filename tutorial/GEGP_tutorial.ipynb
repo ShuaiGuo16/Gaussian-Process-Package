{
 "cells": [
  {
   "cell_type": "markdown",
   "metadata": {},
   "source": [
    "# Tutorial 5: Gradient-Enhanced Gaussian Process Model \n",
    "\n",
    "In this notebook, we will walk through the functionalities of the developed package related to training and exploiting a gradient-enhanced Gaussian Process model for interpolation purposes. \n",
    "\n",
    "For a theoretical introduction of the gradient-enhanced Gaussian Process modeling, see: [A. Forrester, A. J. Keane, Recent advances in surrogate-based optimization, *Progress in Aerospace Sciences*, 2009, 45(1), pp. 50-79.](http://www.sciencedirect.com/science/article/pii/S0376042108000766).\n",
    "\n",
    "If you have further questions, please contact Shuai Guo at guo@tfd.mw.tum.de"
   ]
  },
  {
   "cell_type": "code",
   "execution_count": 1,
   "metadata": {},
   "outputs": [],
   "source": [
    "# Get path right\n",
    "import sys\n",
    "import os\n",
    "\n",
    "module_path = os.path.abspath(os.path.join('..'))\n",
    "if module_path not in sys.path:\n",
    "    sys.path.append(module_path+\"\\\\GaussianProcess\")"
   ]
  },
  {
   "cell_type": "code",
   "execution_count": 2,
   "metadata": {},
   "outputs": [],
   "source": [
    "# Import necessary packages\n",
    "import numpy as np\n",
    "import matplotlib.pyplot as plt\n",
    "from sklearn.preprocessing import MinMaxScaler\n",
    "\n",
    "# Import sampler\n",
    "from skopt.space import Space\n",
    "from skopt.sampler import Lhs\n",
    "\n",
    "# Import Gradient-Enhanced GP module\n",
    "from GEGP import GEGP\n",
    "\n",
    "%matplotlib inline"
   ]
  },
  {
   "cell_type": "code",
   "execution_count": 3,
   "metadata": {},
   "outputs": [],
   "source": [
    "lhs = Lhs(criterion=\"maximin\")\n",
    "x = np.array(lhs.generate([(-2.,2.),(0.,5.)], 10))"
   ]
  },
  {
   "cell_type": "markdown",
   "metadata": {},
   "source": [
    "## 1. Testing function (1D)\n",
    "\n",
    "### 1.1 Analytical function\n",
    "\n",
    "In this tutorial, we consider the following reference function:\n",
    "\n",
    "\\begin{equation}\n",
    "y = (6x-2)^2sin(12x-4), x \\in [0,1]\n",
    "\\end{equation}"
   ]
  },
  {
   "cell_type": "markdown",
   "metadata": {},
   "source": [
    "### 1.2 Generating training dataset"
   ]
  },
  {
   "cell_type": "code",
   "execution_count": 3,
   "metadata": {},
   "outputs": [],
   "source": [
    "X_train=np.array([0,0.1, 0.2,0.4,0.6,0.8, 1]).reshape(-1,1)\n",
    "y_train =((6*X_train-2)**2)*np.sin(12*X_train-4)\n",
    "grad_train = 12*(6*X_train-2)*np.sin(12*X_train-4) + \\\n",
    "    ((6*X_train-2)**2)*np.cos(12*X_train-4)*12"
   ]
  },
  {
   "cell_type": "markdown",
   "metadata": {},
   "source": [
    "### 1.3 Initiate a gradient-enhanced GP model\n",
    "\n",
    "To train agradient-enhanced Gaussian Process (GEGP) model and later use it for performing interpolating tasks, we first need to initiate a `GEGP` class. There are several parameters need to be specified in determining how the GEGP model is constructed and trained. Those parameters include:\n",
    "\n",
    "1. `n_restarts`: integer, number of local optimizers used for GP model parameter tuning. This parameter exists because the current Gaussian Process package employed a multi-start strategy to optimize the model parameter globally, i.e., random starting points are generated in the search space and each starting point is assigned to one local optimizer to find identify the local optimum around that starting point. The default value for `n_restarts` is 20. In general, a larger `n_restarts` number improve the chance of locating the global optimum.\n",
    "\n",
    "2. `opt`: str, indicates the algorithms used by the local optimizer. The default optimizer uses [\"L-BFGS-B\"](https://docs.scipy.org/doc/scipy/reference/optimize.minimize-lbfgsb.html) algorithm. For other available methods, please refer to the [official documentations](https://docs.scipy.org/doc/scipy/reference/generated/scipy.optimize.minimize.html#scipy.optimize.minimize).\n",
    "\n",
    "3. `inital_point`: array, user-specified starting points for model parameter optimization. The default value is `None`, meaning that the GP package will automatically handle the starting-point generation for user. However, a user might want to manually specify a starting point when s/he has the prior knowledge about where the optimum parameter value may be located. \n",
    "\n",
    "4. `verbose`: bool, determins whether to display optimization results, default value is False, i.e., not displaying the results.\n",
    "\n",
    "5. `kernel`: str, determins which kernel to use for GP model. Currently, only **Gaussian** kernel is available.\n",
    "\n",
    "6. `trend`: str, determins which global trend type to use for GP model. Currently, only **Const** is available.\n",
    "\n",
    "7. `nugget`: float, the nugget term to be added to the diagonal of the kernel matrix. This practice can avoid numerical instability when coverting the kernel matrix. The default value is $10^{-10}$."
   ]
  },
  {
   "cell_type": "code",
   "execution_count": 4,
   "metadata": {},
   "outputs": [],
   "source": [
    "GEGP_1D = GEGP()"
   ]
  },
  {
   "cell_type": "markdown",
   "metadata": {},
   "source": [
    "### 1.4 Fit a gradient-enhanced GP model"
   ]
  },
  {
   "cell_type": "code",
   "execution_count": 5,
   "metadata": {},
   "outputs": [],
   "source": [
    "GEGP_1D.fit(X_train, y_train, grad_train)"
   ]
  },
  {
   "cell_type": "code",
   "execution_count": 6,
   "metadata": {},
   "outputs": [
    {
     "data": {
      "text/plain": [
       "{'n_restarts': 20,\n",
       " 'opt': 'L-BFGS-B',\n",
       " 'init_point': None,\n",
       " 'verbose': False,\n",
       " 'kernel': 'Gaussian',\n",
       " 'trend': 'Const',\n",
       " 'nugget': 1e-10,\n",
       " 'X': array([[0. ],\n",
       "        [0.1],\n",
       "        [0.2],\n",
       "        [0.4],\n",
       "        [0.6],\n",
       "        [0.8],\n",
       "        [1. ]]),\n",
       " 'y': array([[ 3.02720998],\n",
       "        [-0.65657677],\n",
       "        [-0.63972711],\n",
       "        [ 0.11477697],\n",
       "        [-0.14943781],\n",
       "        [-4.94913044],\n",
       "        [15.82973195]]),\n",
       " 'grad': array([[-49.53815369],\n",
       "        [-16.53326853],\n",
       "        [  9.37165426],\n",
       "        [  4.78098612],\n",
       "        [-31.78839907],\n",
       "        [ 51.75467882],\n",
       "        [ 19.55318935]]),\n",
       " 'diff_list': [array([[ 0. , -0.1, -0.2, -0.4, -0.6, -0.8, -1. ],\n",
       "         [ 0.1,  0. , -0.1, -0.3, -0.5, -0.7, -0.9],\n",
       "         [ 0.2,  0.1,  0. , -0.2, -0.4, -0.6, -0.8],\n",
       "         [ 0.4,  0.3,  0.2,  0. , -0.2, -0.4, -0.6],\n",
       "         [ 0.6,  0.5,  0.4,  0.2,  0. , -0.2, -0.4],\n",
       "         [ 0.8,  0.7,  0.6,  0.4,  0.2,  0. , -0.2],\n",
       "         [ 1. ,  0.9,  0.8,  0.6,  0.4,  0.2,  0. ]])],\n",
       " 'PsiDot': array([[ 1.00000000e+00,  9.21600343e-01,  7.21390653e-01,\n",
       "          2.70820817e-01,  5.29096146e-02,  5.37932984e-03,\n",
       "          2.84618269e-04,  0.00000000e+00, -1.50485571e+00,\n",
       "         -2.35587768e+00, -1.76886328e+00, -5.18367876e-01,\n",
       "         -7.02700711e-02, -4.64745298e-03],\n",
       "        [ 9.21600343e-01,  1.00000000e+00,  9.21600343e-01,\n",
       "          4.79604942e-01,  1.29887002e-01,  1.83058019e-02,\n",
       "          1.34261918e-03,  1.50485571e+00,  0.00000000e+00,\n",
       "         -1.50485571e+00, -2.34940093e+00, -1.06044446e+00,\n",
       "         -2.09237263e-01, -1.97309314e-02],\n",
       "        [ 7.21390653e-01,  9.21600343e-01,  1.00000000e+00,\n",
       "          7.21390653e-01,  2.70820817e-01,  5.29096146e-02,\n",
       "          5.37932984e-03,  2.35587768e+00,  1.50485571e+00,\n",
       "          0.00000000e+00, -2.35587768e+00, -1.76886328e+00,\n",
       "         -5.18367876e-01, -7.02700711e-02],\n",
       "        [ 2.70820817e-01,  4.79604942e-01,  7.21390653e-01,\n",
       "          1.00000000e+00,  7.21390653e-01,  2.70820817e-01,\n",
       "          5.29096146e-02,  1.76886328e+00,  2.34940093e+00,\n",
       "          2.35587768e+00,  0.00000000e+00, -2.35587768e+00,\n",
       "         -1.76886328e+00, -5.18367876e-01],\n",
       "        [ 5.29096146e-02,  1.29887002e-01,  2.70820817e-01,\n",
       "          7.21390653e-01,  1.00000000e+00,  7.21390653e-01,\n",
       "          2.70820817e-01,  5.18367876e-01,  1.06044446e+00,\n",
       "          1.76886328e+00,  2.35587768e+00,  0.00000000e+00,\n",
       "         -2.35587768e+00, -1.76886328e+00],\n",
       "        [ 5.37932984e-03,  1.83058019e-02,  5.29096146e-02,\n",
       "          2.70820817e-01,  7.21390653e-01,  1.00000000e+00,\n",
       "          7.21390653e-01,  7.02700711e-02,  2.09237263e-01,\n",
       "          5.18367876e-01,  1.76886328e+00,  2.35587768e+00,\n",
       "          0.00000000e+00, -2.35587768e+00],\n",
       "        [ 2.84618269e-04,  1.34261918e-03,  5.37932984e-03,\n",
       "          5.29096146e-02,  2.70820817e-01,  7.21390653e-01,\n",
       "          1.00000000e+00,  4.64745298e-03,  1.97309314e-02,\n",
       "          7.02700711e-02,  5.18367876e-01,  1.76886328e+00,\n",
       "          2.35587768e+00,  0.00000000e+00],\n",
       "        [ 0.00000000e+00,  1.50485571e+00,  2.35587768e+00,\n",
       "          1.76886328e+00,  5.18367876e-01,  7.02700711e-02,\n",
       "          4.64745298e-03,  1.63287234e+01,  1.25913198e+01,\n",
       "          4.08569342e+00, -7.13115347e+00, -4.21462493e+00,\n",
       "         -8.30098853e-01, -7.12395210e-02],\n",
       "        [-1.50485571e+00,  0.00000000e+00,  1.50485571e+00,\n",
       "          2.34940093e+00,  1.06044446e+00,  2.09237263e-01,\n",
       "          1.97309314e-02,  1.25913198e+01,  1.63287234e+01,\n",
       "          1.25913198e+01, -3.67747892e+00, -6.53696322e+00,\n",
       "         -2.09269379e+00, -2.68039572e-01],\n",
       "        [-2.35587768e+00, -1.50485571e+00,  0.00000000e+00,\n",
       "          2.35587768e+00,  1.76886328e+00,  5.18367876e-01,\n",
       "          7.02700711e-02,  4.08569342e+00,  1.25913198e+01,\n",
       "          1.63287234e+01,  4.08569342e+00, -7.13115347e+00,\n",
       "         -4.21462493e+00, -8.30098853e-01],\n",
       "        [-1.76886328e+00, -2.34940093e+00, -2.35587768e+00,\n",
       "          0.00000000e+00,  2.35587768e+00,  1.76886328e+00,\n",
       "          5.18367876e-01, -7.13115347e+00, -3.67747892e+00,\n",
       "          4.08569342e+00,  1.63287234e+01,  4.08569342e+00,\n",
       "         -7.13115347e+00, -4.21462493e+00],\n",
       "        [-5.18367876e-01, -1.06044446e+00, -1.76886328e+00,\n",
       "         -2.35587768e+00,  0.00000000e+00,  2.35587768e+00,\n",
       "          1.76886328e+00, -4.21462493e+00, -6.53696322e+00,\n",
       "         -7.13115347e+00,  4.08569342e+00,  1.63287234e+01,\n",
       "          4.08569342e+00, -7.13115347e+00],\n",
       "        [-7.02700711e-02, -2.09237263e-01, -5.18367876e-01,\n",
       "         -1.76886328e+00, -2.35587768e+00,  0.00000000e+00,\n",
       "          2.35587768e+00, -8.30098853e-01, -2.09269379e+00,\n",
       "         -4.21462493e+00, -7.13115347e+00,  4.08569342e+00,\n",
       "          1.63287234e+01,  4.08569342e+00],\n",
       "        [-4.64745298e-03, -1.97309314e-02, -7.02700711e-02,\n",
       "         -5.18367876e-01, -1.76886328e+00, -2.35587768e+00,\n",
       "          0.00000000e+00, -7.12395210e-02, -2.68039572e-01,\n",
       "         -8.30098853e-01, -4.21462493e+00, -7.13115347e+00,\n",
       "          4.08569342e+00,  1.63287234e+01]]),\n",
       " 'F': array([[1.],\n",
       "        [1.],\n",
       "        [1.],\n",
       "        [1.],\n",
       "        [1.],\n",
       "        [1.],\n",
       "        [1.],\n",
       "        [0.],\n",
       "        [0.],\n",
       "        [0.],\n",
       "        [0.],\n",
       "        [0.],\n",
       "        [0.],\n",
       "        [0.]]),\n",
       " 'L': array([[ 1.00000000e+00,  0.00000000e+00,  0.00000000e+00,\n",
       "          0.00000000e+00,  0.00000000e+00,  0.00000000e+00,\n",
       "          0.00000000e+00,  0.00000000e+00,  0.00000000e+00,\n",
       "          0.00000000e+00,  0.00000000e+00,  0.00000000e+00,\n",
       "          0.00000000e+00,  0.00000000e+00],\n",
       "        [ 9.21600343e-01,  3.88140191e-01,  0.00000000e+00,\n",
       "          0.00000000e+00,  0.00000000e+00,  0.00000000e+00,\n",
       "          0.00000000e+00,  0.00000000e+00,  0.00000000e+00,\n",
       "          0.00000000e+00,  0.00000000e+00,  0.00000000e+00,\n",
       "          0.00000000e+00,  0.00000000e+00],\n",
       "        [ 7.21390653e-01,  6.61530230e-01,  2.04873817e-01,\n",
       "          0.00000000e+00,  0.00000000e+00,  0.00000000e+00,\n",
       "          0.00000000e+00,  0.00000000e+00,  0.00000000e+00,\n",
       "          0.00000000e+00,  0.00000000e+00,  0.00000000e+00,\n",
       "          0.00000000e+00,  0.00000000e+00],\n",
       "        [ 2.70820817e-01,  5.92611612e-01,  6.54024771e-01,\n",
       "          3.84342505e-01,  0.00000000e+00,  0.00000000e+00,\n",
       "          0.00000000e+00,  0.00000000e+00,  0.00000000e+00,\n",
       "          0.00000000e+00,  0.00000000e+00,  0.00000000e+00,\n",
       "          0.00000000e+00,  0.00000000e+00],\n",
       "        [ 5.29096146e-02,  2.09010778e-01,  4.60700001e-01,\n",
       "          7.33434886e-01,  4.50936631e-01,  0.00000000e+00,\n",
       "          0.00000000e+00,  0.00000000e+00,  0.00000000e+00,\n",
       "          0.00000000e+00,  0.00000000e+00,  0.00000000e+00,\n",
       "          0.00000000e+00,  0.00000000e+00],\n",
       "        [ 5.37932984e-03,  3.43901765e-02,  1.28268587e-01,\n",
       "          4.29546899e-01,  7.53498552e-01,  4.79650854e-01,\n",
       "          0.00000000e+00,  0.00000000e+00,  0.00000000e+00,\n",
       "          0.00000000e+00,  0.00000000e+00,  0.00000000e+00,\n",
       "          0.00000000e+00,  0.00000000e+00],\n",
       "        [ 2.84618269e-04,  2.78331105e-03,  1.62674008e-02,\n",
       "          1.05488797e-01,  4.11056560e-01,  7.59227040e-01,\n",
       "          4.93159674e-01,  0.00000000e+00,  0.00000000e+00,\n",
       "          0.00000000e+00,  0.00000000e+00,  0.00000000e+00,\n",
       "          0.00000000e+00,  0.00000000e+00],\n",
       "        [ 0.00000000e+00,  3.87709323e+00, -1.01983110e+00,\n",
       "          3.59699006e-01, -1.90638766e-01,  1.18600617e-01,\n",
       "         -7.94456625e-02,  2.65916849e-01,  0.00000000e+00,\n",
       "          0.00000000e+00,  0.00000000e+00,  0.00000000e+00,\n",
       "          0.00000000e+00,  0.00000000e+00],\n",
       "        [-1.50485571e+00,  3.57313045e+00,  1.10658718e+00,\n",
       "         -2.19249350e-01,  9.81145210e-02, -5.67910050e-02,\n",
       "          3.67584992e-02, -9.88431746e-02,  1.71224148e-02,\n",
       "          0.00000000e+00,  0.00000000e+00,  0.00000000e+00,\n",
       "          0.00000000e+00,  0.00000000e+00],\n",
       "        [-2.35587768e+00,  1.71670440e+00,  2.75221251e+00,\n",
       "          4.59341025e-01, -1.55540480e-01,  8.10417746e-02,\n",
       "         -4.99987624e-02,  1.06055674e-01, -3.58487940e-02,\n",
       "          5.32902308e-03,  0.00000000e+00,  0.00000000e+00,\n",
       "          0.00000000e+00,  0.00000000e+00],\n",
       "        [-1.76886328e+00, -1.85297977e+00,  7.12467258e-01,\n",
       "          2.89109603e+00,  8.60644091e-01, -2.91127800e-01,\n",
       "          1.51511195e-01, -1.86785025e-01,  1.18699780e-01,\n",
       "         -5.16332216e-02,  1.42349454e-02,  0.00000000e+00,\n",
       "          0.00000000e+00,  0.00000000e+00],\n",
       "        [-5.18367876e-01, -1.50130408e+00, -1.96100954e+00,\n",
       "         -1.12539801e-01,  2.94319201e+00,  1.02675183e+00,\n",
       "         -3.49571383e-01,  2.18842962e-01, -1.92834023e-01,\n",
       "          1.34138985e-01, -7.48130725e-02,  2.03576291e-02,\n",
       "          0.00000000e+00,  0.00000000e+00],\n",
       "        [-7.02700711e-02, -3.72227212e-01, -1.08084163e+00,\n",
       "         -2.13962625e+00, -4.59354891e-01,  2.95425317e+00,\n",
       "          1.10733859e+00, -2.61614036e-01,  2.79845605e-01,\n",
       "         -2.56597755e-01,  2.14124943e-01, -1.20765753e-01,\n",
       "          3.41181076e-02,  0.00000000e+00],\n",
       "        [-4.64745298e-03, -3.97996330e-02, -1.98116003e-01,\n",
       "         -9.46943797e-01, -2.16106900e+00, -6.12847384e-01,\n",
       "          2.95409147e+00,  4.40090770e-01, -5.29609245e-01,\n",
       "          5.77491920e-01, -6.27742396e-01,  5.44951374e-01,\n",
       "         -3.31308697e-01,  1.01227218e-01]]),\n",
       " 'mu': array([[-22.74856379]]),\n",
       " 'SigmaSqr': array([[2249.62155689]]),\n",
       " 'theta': array([0.91192224]),\n",
       " 'NegLnlike': array([23.86240715])}"
      ]
     },
     "execution_count": 6,
     "metadata": {},
     "output_type": "execute_result"
    }
   ],
   "source": [
    "GEGP_1D.__dict__"
   ]
  },
  {
   "cell_type": "markdown",
   "metadata": {},
   "source": [
    "### 1.5 Predicting on the test dataset"
   ]
  },
  {
   "cell_type": "code",
   "execution_count": 7,
   "metadata": {},
   "outputs": [],
   "source": [
    "X_test = np.linspace(0, 1, 100).reshape(-1,1)\n",
    "y_test = ((6*X_test-2)**2)*np.sin(12*X_test-4)\n",
    "grad_test = 12*(6*X_test-2)*np.sin(12*X_test-4) + \\\n",
    "    ((6*X_test-2)**2)*np.cos(12*X_test-4)*12"
   ]
  },
  {
   "cell_type": "code",
   "execution_count": 8,
   "metadata": {},
   "outputs": [],
   "source": [
    "y_pred, y_pred_SSqr = GEGP_1D.predict(X_test)"
   ]
  },
  {
   "cell_type": "code",
   "execution_count": 9,
   "metadata": {
    "scrolled": true
   },
   "outputs": [
    {
     "data": {
      "image/png": "[encoded data removed]",
      "text/plain": [
       "<Figure size 504x360 with 1 Axes>"
      ]
     },
     "metadata": {
      "needs_background": "light"
     },
     "output_type": "display_data"
    }
   ],
   "source": [
    "# Assess prediction results\n",
    "fig, ax = plt.subplots(figsize=(7,5))\n",
    "ax.plot(X_test,y_test,'r--',linewidth=2,label='Test Function')\n",
    "ax.plot(X_train,y_train,'ro',markerfacecolor='r', markersize=10, label='Training Data')\n",
    "ax.plot(X_test,y_pred,'b-', lw=2, label='GP Prediction')\n",
    "ax.fill_between(X_test.flatten(), y_pred-1.96*np.sqrt(y_pred_SSqr), \n",
    "                y_pred+1.96*np.sqrt(y_pred_SSqr),\n",
    "                facecolor='lavender',label='95% Credibility Interval')\n",
    "ax.tick_params(axis='both', which='major', labelsize=12)\n",
    "ax.set_xlabel('x', fontsize=15)\n",
    "ax.set_ylabel('f(x)', fontsize=15)\n",
    "ax.set_ylim([-10,20])\n",
    "ax.legend(loc=\"upper left\",prop={'size': 12});"
   ]
  },
  {
   "cell_type": "markdown",
   "metadata": {},
   "source": [
    "### 1.6 Gradient predictions\n",
    "\n",
    "The current GEGP package also allows computing the gradients of the output against the inputs. We use `.predict_grad` method to achieve that goal. Notice that the array returned by the `.predict_grad` method is of shape $n_{sample} \\times n_{parameters}$, meaning that each row of the array holds the gradient values of the output against individual input parameter at a specific sample location. "
   ]
  },
  {
   "cell_type": "code",
   "execution_count": 10,
   "metadata": {},
   "outputs": [],
   "source": [
    "grad_cal = GEGP_1D.predict_grad(X_test)"
   ]
  },
  {
   "cell_type": "code",
   "execution_count": 11,
   "metadata": {
    "scrolled": true
   },
   "outputs": [
    {
     "data": {
      "image/png": "[encoded data removed]",
      "text/plain": [
       "<Figure size 504x360 with 1 Axes>"
      ]
     },
     "metadata": {
      "needs_background": "light"
     },
     "output_type": "display_data"
    }
   ],
   "source": [
    "# Assess prediction results\n",
    "fig, ax = plt.subplots(figsize=(7,5))\n",
    "ax.plot(grad_cal.flatten(), grad_test.flatten(),'o')\n",
    "ax.tick_params(axis='both', which='major', labelsize=12)\n",
    "ax.set_xlabel('GEGP prediction', fontsize=15)\n",
    "ax.set_ylabel('Reference', fontsize=15);"
   ]
  },
  {
   "cell_type": "markdown",
   "metadata": {},
   "source": [
    "## 2. Test Function (2D)\n",
    "\n",
    "### 2.1 Nominal value predictions\n",
    "\n",
    "We further showcase how to train and exploit a gradient-enhanced GP model for multi-dimensional problems. Here, we consider the task of interpolating a two-dimensional analytical function.\n",
    "\n",
    "\\begin{equation}\n",
    "y = (1-x_1)^2 + 100(x_2-x_1^2)^2, x_1 \\in [-2,2] \\; x_2 \\in [-1,3]\n",
    "\\end{equation}"
   ]
  },
  {
   "cell_type": "code",
   "execution_count": 12,
   "metadata": {},
   "outputs": [],
   "source": [
    "# 2D Test function\n",
    "def Test_2D(X):\n",
    "    \"\"\"2D Test Function\"\"\"\n",
    "    \n",
    "    y = (1-X[:,[0]])**2 + 100*(X[:,[1]]-X[:,[0]]**2)**2\n",
    "    \n",
    "    grad = np.zeros_like(X)\n",
    "    grad[:,[0]] = 2*(X[:,[0]]-1) - 400*(X[:,[1]]-X[:,[0]]**2)*X[:,[0]]\n",
    "    grad[:,[1]] = 200*(X[:,[1]]-X[:,[0]]**2)\n",
    "    \n",
    "    return y, grad"
   ]
  },
  {
   "cell_type": "markdown",
   "metadata": {},
   "source": [
    "One thing to keep in mind is that the gradient training data also needs to be properly scaled before feeding into the GEGP training."
   ]
  },
  {
   "cell_type": "code",
   "execution_count": 13,
   "metadata": {},
   "outputs": [],
   "source": [
    "def scale_grad(grad, lb, ub, inverse=False):\n",
    "    \"\"\"Scale the gradients\"\"\"\n",
    "    if inverse is False:\n",
    "        # Forward scaling: Converting to [0,1] scale \n",
    "        scaled_grad = grad*(ub-lb)     \n",
    "    else:\n",
    "        # Inverse scaling: Converting back to original scale \n",
    "        scaled_grad = grad/(ub-lb) \n",
    "        \n",
    "    return scaled_grad"
   ]
  },
  {
   "cell_type": "markdown",
   "metadata": {},
   "source": [
    "### 2.2 Generating training dataset"
   ]
  },
  {
   "cell_type": "code",
   "execution_count": 14,
   "metadata": {},
   "outputs": [],
   "source": [
    "# Set number of training data\n",
    "sample_num = 10\n",
    "\n",
    "# Set parameter space\n",
    "lb, ub = np.array([-2, -1]), np.array([2, 3])\n",
    "\n",
    "# Generate random samples (Latin Hypercube sampling)\n",
    "dimension = [(lb[i],ub[i]) for i in range(len(lb))]\n",
    "lhs_sampler= Lhs(criterion=\"maximin\")\n",
    "X_train = np.array(lhs_sampler.generate(dimension, sample_num)) \n",
    "\n",
    "# Compute labels\n",
    "y_train, grad_train = Test_2D(X_train)\n",
    "\n",
    "# Test data\n",
    "X1 = np.linspace(-2, 2, 20)\n",
    "X2 = np.linspace(-1, 3, 20)\n",
    "X1, X2 = np.meshgrid(X1, X2)\n",
    "X_test = np.hstack((X1.reshape(-1,1), X2.reshape(-1,1)))\n",
    "y_test, grad_test = Test_2D(X_test)"
   ]
  },
  {
   "cell_type": "code",
   "execution_count": 16,
   "metadata": {},
   "outputs": [
    {
     "data": {
      "image/png": "[encoded data removed]",
      "text/plain": [
       "<Figure size 504x360 with 1 Axes>"
      ]
     },
     "metadata": {
      "needs_background": "light"
     },
     "output_type": "display_data"
    }
   ],
   "source": [
    "# Inspect sampling\n",
    "fig, ax = plt.subplots(figsize=(7,5))\n",
    "ax.scatter(X_train[:,0], X_train[:,1], c='r', label='Training Data')\n",
    "ax.set_xlabel(r'$x_1$', fontsize=15)\n",
    "ax.set_ylabel(r'$x_2$', fontsize=15)\n",
    "ax.legend(loc=\"upper left\",prop={'size': 12});"
   ]
  },
  {
   "cell_type": "markdown",
   "metadata": {},
   "source": [
    "### 2.3 Normalization"
   ]
  },
  {
   "cell_type": "code",
   "execution_count": 17,
   "metadata": {},
   "outputs": [],
   "source": [
    "# Normalize training data\n",
    "scaler = MinMaxScaler()\n",
    "X_train_std = scaler.fit_transform(X_train)\n",
    "grad_train_std = scale_grad(grad_train, lb, ub, inverse=False)"
   ]
  },
  {
   "cell_type": "markdown",
   "metadata": {},
   "source": [
    "### 2.4 Fitting a GEGP model"
   ]
  },
  {
   "cell_type": "code",
   "execution_count": 18,
   "metadata": {},
   "outputs": [],
   "source": [
    "# Fit a GEGP model\n",
    "GEGP_2D = GEGP(n_restarts=40)\n",
    "GEGP_2D.fit(X_train_std, y_train, grad_train_std.reshape((-1,1), order='F'))"
   ]
  },
  {
   "cell_type": "markdown",
   "metadata": {},
   "source": [
    "### 2.5 GEGP prediction"
   ]
  },
  {
   "cell_type": "code",
   "execution_count": 19,
   "metadata": {},
   "outputs": [],
   "source": [
    "# GEGP predictions\n",
    "y_pred, y_pred_SSqr = GEGP_2D.predict(scaler.transform(X_test))\n",
    "\n",
    "# Gradient predictions\n",
    "grad_cal = GEGP_2D.predict_grad(scaler.transform(X_test))\n",
    "\n",
    "# Scale the gradients back to original scale\n",
    "grad_cal = scale_grad(grad_cal, lb, ub, inverse=True)"
   ]
  },
  {
   "cell_type": "code",
   "execution_count": 20,
   "metadata": {},
   "outputs": [
    {
     "data": {
      "text/plain": [
       "Text(0, 0.5, 'Reference')"
      ]
     },
     "execution_count": 20,
     "metadata": {},
     "output_type": "execute_result"
    },
    {
     "data": {
      "image/png": "[encoded data removed]",
      "text/plain": [
       "<Figure size 720x288 with 2 Axes>"
      ]
     },
     "metadata": {
      "needs_background": "light"
     },
     "output_type": "display_data"
    }
   ],
   "source": [
    "fig, ax = plt.subplots(1, 2, figsize=(10,4))\n",
    "\n",
    "# Check nominal predictions\n",
    "ax[0].plot(y_pred, y_test.flatten(),'o')\n",
    "ax[0].tick_params(axis='both', which='major', labelsize=12)\n",
    "ax[0].set_xlabel('GEGP prediction', fontsize=15)\n",
    "ax[0].set_ylabel('Reference', fontsize=15)\n",
    "\n",
    "# Check gradient calculations\n",
    "ax[1].plot(grad_cal[:,1], grad_test[:,1],'o')\n",
    "ax[1].tick_params(axis='both', which='major', labelsize=12)\n",
    "ax[1].set_xlabel('GEGP prediction', fontsize=15)\n",
    "ax[1].set_ylabel('Reference', fontsize=15)"
   ]
  },
  {
   "cell_type": "code",
   "execution_count": 21,
   "metadata": {},
   "outputs": [
    {
     "data": {
      "image/png": "[encoded data removed]",
      "text/plain": [
       "<Figure size 720x288 with 4 Axes>"
      ]
     },
     "metadata": {
      "needs_background": "light"
     },
     "output_type": "display_data"
    }
   ],
   "source": [
    "# Post-processing - Contour plot\n",
    "fig, ax = plt.subplots(1, 2, figsize=(10,4))\n",
    "title = ['True Function', 'GEGP Approximation']\n",
    "display_y = [y_test, y_pred]\n",
    "\n",
    "for i in range(2):\n",
    "    h = ax[i].contourf(X_test[:,0].reshape(20,-1), \n",
    "                   X_test[:,1].reshape(20,-1), \n",
    "                   display_y[i].reshape(20,-1), levels=15, cmap='GnBu');\n",
    "    ax[i].set_xlabel(r'$x_1$', fontsize=15)\n",
    "    ax[i].set_ylabel(r'$x_2$', fontsize=15)\n",
    "    ax[i].set_title(title[i], fontsize=15)\n",
    "    fig.colorbar(h, ax=ax[i])\n",
    "plt.tight_layout()"
   ]
  },
  {
   "cell_type": "markdown",
   "metadata": {},
   "source": [
    "### 2.6 Prediction only mode\n",
    "\n",
    "We can use the **prediction-only** mode with `.predict_only` method. This method is useful when the user has prior knowledge of the model parameters. As a result, one does not have to re-train a GEGP model. Instead, one can direct specify the parameter values to construct a GEGP model."
   ]
  },
  {
   "cell_type": "code",
   "execution_count": 25,
   "metadata": {},
   "outputs": [],
   "source": [
    "# Assigh theta value\n",
    "custom_theta = GEGP_2D.theta\n",
    "\n",
    "# Initiate a GEGP model\n",
    "GEGP_predictor = GEGP()\n",
    "\n",
    "# Predicting only mode\n",
    "y_pred, y_pred_SSqr, grad_cal = GEGP_predictor.predict_only(X_train=X_train_std, \n",
    "                                                            y_train=y_train, \n",
    "                                                            grad_train=grad_train_std.reshape((-1,1), order='F'), \n",
    "                                                            theta=custom_theta, \n",
    "                                                            X_test=scaler.transform(X_test))\n",
    "\n",
    "# Scale the gradients back to original scale\n",
    "grad_cal = scale_grad(grad_cal, lb, ub, inverse=True)"
   ]
  },
  {
   "cell_type": "code",
   "execution_count": 26,
   "metadata": {},
   "outputs": [
    {
     "data": {
      "image/png": "[encoded data removed]",
      "text/plain": [
       "<Figure size 720x288 with 2 Axes>"
      ]
     },
     "metadata": {
      "needs_background": "light"
     },
     "output_type": "display_data"
    }
   ],
   "source": [
    "fig, ax = plt.subplots(1, 2, figsize=(10,4))\n",
    "\n",
    "# Check nominal predictions\n",
    "ax[0].plot(y_pred, y_test.flatten(),'o')\n",
    "ax[0].tick_params(axis='both', which='major', labelsize=12)\n",
    "ax[0].set_xlabel('GEGP prediction', fontsize=15)\n",
    "ax[0].set_ylabel('Reference', fontsize=15)\n",
    "\n",
    "# Check gradient calculations\n",
    "ax[1].plot(grad_cal[:,1], grad_test[:,1],'o')\n",
    "ax[1].tick_params(axis='both', which='major', labelsize=12)\n",
    "ax[1].set_xlabel('GEGP prediction', fontsize=15)\n",
    "ax[1].set_ylabel('Reference', fontsize=15);"
   ]
  },
  {
   "cell_type": "code",
   "execution_count": null,
   "metadata": {},
   "outputs": [],
   "source": []
  }
 ],
 "metadata": {
  "kernelspec": {
   "display_name": "Python 3",
   "language": "python",
   "name": "python3"
  },
  "language_info": {
   "codemirror_mode": {
    "name": "ipython",
    "version": 3
   },
   "file_extension": ".py",
   "mimetype": "text/x-python",
   "name": "python",
   "nbconvert_exporter": "python",
   "pygments_lexer": "ipython3",
   "version": "3.8.5"
  }
 },
 "nbformat": 4,
 "nbformat_minor": 4
}
